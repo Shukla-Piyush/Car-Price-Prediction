{
 "cells": [
  {
   "cell_type": "code",
   "execution_count": 1,
   "id": "46b53056",
   "metadata": {},
   "outputs": [],
   "source": [
    "import numpy as nump  # to to mathematical calculations\n",
    "import pandas as panda  # for data manipulation\n",
    "import seaborn as sb    # for 3D visualization\n",
    "import lightgbm as ligbm \n",
    "import matplotlib.pyplot as mplot\n",
    "from sklearn.model_selection import cross_val_score,train_test_split  \n",
    "from sklearn.ensemble import RandomForestRegressor\n",
    "from sklearn.metrics import make_scorer, r2_score,mean_squared_error,mean_absolute_error # for calculating accuracy errors\n",
    "from sklearn.neighbors import KNeighborsRegressor "
   ]
  },
  {
   "cell_type": "code",
   "execution_count": 2,
   "id": "04bb0c68",
   "metadata": {},
   "outputs": [],
   "source": [
    "df=panda.read_csv(\"car_price (1).csv\") #IMporting Dataset"
   ]
  },
  {
   "cell_type": "code",
   "execution_count": 3,
   "id": "4d5d1923",
   "metadata": {},
   "outputs": [
    {
     "data": {
      "text/html": [
       "<div>\n",
       "<style scoped>\n",
       "    .dataframe tbody tr th:only-of-type {\n",
       "        vertical-align: middle;\n",
       "    }\n",
       "\n",
       "    .dataframe tbody tr th {\n",
       "        vertical-align: top;\n",
       "    }\n",
       "\n",
       "    .dataframe thead th {\n",
       "        text-align: right;\n",
       "    }\n",
       "</style>\n",
       "<table border=\"1\" class=\"dataframe\">\n",
       "  <thead>\n",
       "    <tr style=\"text-align: right;\">\n",
       "      <th></th>\n",
       "      <th>Unnamed: 0</th>\n",
       "      <th>Name</th>\n",
       "      <th>Location</th>\n",
       "      <th>Year</th>\n",
       "      <th>Kilometers_Driven</th>\n",
       "      <th>Fuel_Type</th>\n",
       "      <th>Transmission</th>\n",
       "      <th>Owner_Type</th>\n",
       "      <th>Mileage</th>\n",
       "      <th>Engine</th>\n",
       "      <th>Power</th>\n",
       "      <th>Seats</th>\n",
       "      <th>New_Price</th>\n",
       "      <th>Price</th>\n",
       "    </tr>\n",
       "  </thead>\n",
       "  <tbody>\n",
       "    <tr>\n",
       "      <th>0</th>\n",
       "      <td>0</td>\n",
       "      <td>Maruti Wagon R LXI CNG</td>\n",
       "      <td>Mumbai</td>\n",
       "      <td>2010</td>\n",
       "      <td>72000</td>\n",
       "      <td>CNG</td>\n",
       "      <td>Manual</td>\n",
       "      <td>First</td>\n",
       "      <td>26.6 km/kg</td>\n",
       "      <td>998 CC</td>\n",
       "      <td>58.16 bhp</td>\n",
       "      <td>5.0</td>\n",
       "      <td>NaN</td>\n",
       "      <td>1.75</td>\n",
       "    </tr>\n",
       "    <tr>\n",
       "      <th>1</th>\n",
       "      <td>1</td>\n",
       "      <td>Hyundai Creta 1.6 CRDi SX Option</td>\n",
       "      <td>Pune</td>\n",
       "      <td>2015</td>\n",
       "      <td>41000</td>\n",
       "      <td>Diesel</td>\n",
       "      <td>Manual</td>\n",
       "      <td>First</td>\n",
       "      <td>19.67 kmpl</td>\n",
       "      <td>1582 CC</td>\n",
       "      <td>126.2 bhp</td>\n",
       "      <td>5.0</td>\n",
       "      <td>NaN</td>\n",
       "      <td>12.50</td>\n",
       "    </tr>\n",
       "    <tr>\n",
       "      <th>2</th>\n",
       "      <td>2</td>\n",
       "      <td>Honda Jazz V</td>\n",
       "      <td>Chennai</td>\n",
       "      <td>2011</td>\n",
       "      <td>46000</td>\n",
       "      <td>Petrol</td>\n",
       "      <td>Manual</td>\n",
       "      <td>First</td>\n",
       "      <td>18.2 kmpl</td>\n",
       "      <td>1199 CC</td>\n",
       "      <td>88.7 bhp</td>\n",
       "      <td>5.0</td>\n",
       "      <td>8.61 Lakh</td>\n",
       "      <td>4.50</td>\n",
       "    </tr>\n",
       "    <tr>\n",
       "      <th>3</th>\n",
       "      <td>3</td>\n",
       "      <td>Maruti Ertiga VDI</td>\n",
       "      <td>Chennai</td>\n",
       "      <td>2012</td>\n",
       "      <td>87000</td>\n",
       "      <td>Diesel</td>\n",
       "      <td>Manual</td>\n",
       "      <td>First</td>\n",
       "      <td>20.77 kmpl</td>\n",
       "      <td>1248 CC</td>\n",
       "      <td>88.76 bhp</td>\n",
       "      <td>7.0</td>\n",
       "      <td>NaN</td>\n",
       "      <td>6.00</td>\n",
       "    </tr>\n",
       "    <tr>\n",
       "      <th>4</th>\n",
       "      <td>4</td>\n",
       "      <td>Audi A4 New 2.0 TDI Multitronic</td>\n",
       "      <td>Coimbatore</td>\n",
       "      <td>2013</td>\n",
       "      <td>40670</td>\n",
       "      <td>Diesel</td>\n",
       "      <td>Automatic</td>\n",
       "      <td>Second</td>\n",
       "      <td>15.2 kmpl</td>\n",
       "      <td>1968 CC</td>\n",
       "      <td>140.8 bhp</td>\n",
       "      <td>5.0</td>\n",
       "      <td>NaN</td>\n",
       "      <td>17.74</td>\n",
       "    </tr>\n",
       "  </tbody>\n",
       "</table>\n",
       "</div>"
      ],
      "text/plain": [
       "   Unnamed: 0                              Name    Location  Year  \\\n",
       "0           0            Maruti Wagon R LXI CNG      Mumbai  2010   \n",
       "1           1  Hyundai Creta 1.6 CRDi SX Option        Pune  2015   \n",
       "2           2                      Honda Jazz V     Chennai  2011   \n",
       "3           3                 Maruti Ertiga VDI     Chennai  2012   \n",
       "4           4   Audi A4 New 2.0 TDI Multitronic  Coimbatore  2013   \n",
       "\n",
       "   Kilometers_Driven Fuel_Type Transmission Owner_Type     Mileage   Engine  \\\n",
       "0              72000       CNG       Manual      First  26.6 km/kg   998 CC   \n",
       "1              41000    Diesel       Manual      First  19.67 kmpl  1582 CC   \n",
       "2              46000    Petrol       Manual      First   18.2 kmpl  1199 CC   \n",
       "3              87000    Diesel       Manual      First  20.77 kmpl  1248 CC   \n",
       "4              40670    Diesel    Automatic     Second   15.2 kmpl  1968 CC   \n",
       "\n",
       "       Power  Seats  New_Price  Price  \n",
       "0  58.16 bhp    5.0        NaN   1.75  \n",
       "1  126.2 bhp    5.0        NaN  12.50  \n",
       "2   88.7 bhp    5.0  8.61 Lakh   4.50  \n",
       "3  88.76 bhp    7.0        NaN   6.00  \n",
       "4  140.8 bhp    5.0        NaN  17.74  "
      ]
     },
     "execution_count": 3,
     "metadata": {},
     "output_type": "execute_result"
    }
   ],
   "source": [
    "df.head()"
   ]
  },
  {
   "cell_type": "code",
   "execution_count": 4,
   "id": "085491d8",
   "metadata": {},
   "outputs": [
    {
     "name": "stdout",
     "output_type": "stream",
     "text": [
      "<class 'pandas.core.frame.DataFrame'>\n",
      "RangeIndex: 6019 entries, 0 to 6018\n",
      "Data columns (total 14 columns):\n",
      " #   Column             Non-Null Count  Dtype  \n",
      "---  ------             --------------  -----  \n",
      " 0   Unnamed: 0         6019 non-null   int64  \n",
      " 1   Name               6019 non-null   object \n",
      " 2   Location           6019 non-null   object \n",
      " 3   Year               6019 non-null   int64  \n",
      " 4   Kilometers_Driven  6019 non-null   int64  \n",
      " 5   Fuel_Type          6019 non-null   object \n",
      " 6   Transmission       6019 non-null   object \n",
      " 7   Owner_Type         6019 non-null   object \n",
      " 8   Mileage            6017 non-null   object \n",
      " 9   Engine             5983 non-null   object \n",
      " 10  Power              5983 non-null   object \n",
      " 11  Seats              5977 non-null   float64\n",
      " 12  New_Price          824 non-null    object \n",
      " 13  Price              6019 non-null   float64\n",
      "dtypes: float64(2), int64(3), object(9)\n",
      "memory usage: 658.5+ KB\n"
     ]
    }
   ],
   "source": [
    "df.info()"
   ]
  },
  {
   "cell_type": "markdown",
   "id": "5770c419",
   "metadata": {},
   "source": [
    "# Data Preprocessing"
   ]
  },
  {
   "cell_type": "code",
   "execution_count": 5,
   "id": "e5d919d9",
   "metadata": {},
   "outputs": [],
   "source": [
    "df.Seats.replace(to_replace=0, value=df.Seats.median(), inplace=True)   # replacing values having 0 with the median of the column"
   ]
  },
  {
   "cell_type": "code",
   "execution_count": 6,
   "id": "d0fa5f6a",
   "metadata": {},
   "outputs": [],
   "source": [
    "df.drop(\"Unnamed: 0\",axis=1,inplace=True)  # removing the column "
   ]
  },
  {
   "cell_type": "code",
   "execution_count": 7,
   "id": "e61026e1",
   "metadata": {},
   "outputs": [
    {
     "data": {
      "text/html": [
       "<div>\n",
       "<style scoped>\n",
       "    .dataframe tbody tr th:only-of-type {\n",
       "        vertical-align: middle;\n",
       "    }\n",
       "\n",
       "    .dataframe tbody tr th {\n",
       "        vertical-align: top;\n",
       "    }\n",
       "\n",
       "    .dataframe thead th {\n",
       "        text-align: right;\n",
       "    }\n",
       "</style>\n",
       "<table border=\"1\" class=\"dataframe\">\n",
       "  <thead>\n",
       "    <tr style=\"text-align: right;\">\n",
       "      <th></th>\n",
       "      <th>Name</th>\n",
       "      <th>Location</th>\n",
       "      <th>Year</th>\n",
       "      <th>Kilometers_Driven</th>\n",
       "      <th>Fuel_Type</th>\n",
       "      <th>Transmission</th>\n",
       "      <th>Owner_Type</th>\n",
       "      <th>Mileage</th>\n",
       "      <th>Engine</th>\n",
       "      <th>Power</th>\n",
       "      <th>Seats</th>\n",
       "      <th>New_Price</th>\n",
       "      <th>Price</th>\n",
       "    </tr>\n",
       "  </thead>\n",
       "  <tbody>\n",
       "    <tr>\n",
       "      <th>0</th>\n",
       "      <td>Maruti Wagon R LXI CNG</td>\n",
       "      <td>Mumbai</td>\n",
       "      <td>2010</td>\n",
       "      <td>72000</td>\n",
       "      <td>CNG</td>\n",
       "      <td>Manual</td>\n",
       "      <td>First</td>\n",
       "      <td>26.6 km/kg</td>\n",
       "      <td>998 CC</td>\n",
       "      <td>58.16 bhp</td>\n",
       "      <td>5.0</td>\n",
       "      <td>NaN</td>\n",
       "      <td>1.75</td>\n",
       "    </tr>\n",
       "    <tr>\n",
       "      <th>1</th>\n",
       "      <td>Hyundai Creta 1.6 CRDi SX Option</td>\n",
       "      <td>Pune</td>\n",
       "      <td>2015</td>\n",
       "      <td>41000</td>\n",
       "      <td>Diesel</td>\n",
       "      <td>Manual</td>\n",
       "      <td>First</td>\n",
       "      <td>19.67 kmpl</td>\n",
       "      <td>1582 CC</td>\n",
       "      <td>126.2 bhp</td>\n",
       "      <td>5.0</td>\n",
       "      <td>NaN</td>\n",
       "      <td>12.50</td>\n",
       "    </tr>\n",
       "    <tr>\n",
       "      <th>2</th>\n",
       "      <td>Honda Jazz V</td>\n",
       "      <td>Chennai</td>\n",
       "      <td>2011</td>\n",
       "      <td>46000</td>\n",
       "      <td>Petrol</td>\n",
       "      <td>Manual</td>\n",
       "      <td>First</td>\n",
       "      <td>18.2 kmpl</td>\n",
       "      <td>1199 CC</td>\n",
       "      <td>88.7 bhp</td>\n",
       "      <td>5.0</td>\n",
       "      <td>8.61 Lakh</td>\n",
       "      <td>4.50</td>\n",
       "    </tr>\n",
       "    <tr>\n",
       "      <th>3</th>\n",
       "      <td>Maruti Ertiga VDI</td>\n",
       "      <td>Chennai</td>\n",
       "      <td>2012</td>\n",
       "      <td>87000</td>\n",
       "      <td>Diesel</td>\n",
       "      <td>Manual</td>\n",
       "      <td>First</td>\n",
       "      <td>20.77 kmpl</td>\n",
       "      <td>1248 CC</td>\n",
       "      <td>88.76 bhp</td>\n",
       "      <td>7.0</td>\n",
       "      <td>NaN</td>\n",
       "      <td>6.00</td>\n",
       "    </tr>\n",
       "    <tr>\n",
       "      <th>4</th>\n",
       "      <td>Audi A4 New 2.0 TDI Multitronic</td>\n",
       "      <td>Coimbatore</td>\n",
       "      <td>2013</td>\n",
       "      <td>40670</td>\n",
       "      <td>Diesel</td>\n",
       "      <td>Automatic</td>\n",
       "      <td>Second</td>\n",
       "      <td>15.2 kmpl</td>\n",
       "      <td>1968 CC</td>\n",
       "      <td>140.8 bhp</td>\n",
       "      <td>5.0</td>\n",
       "      <td>NaN</td>\n",
       "      <td>17.74</td>\n",
       "    </tr>\n",
       "  </tbody>\n",
       "</table>\n",
       "</div>"
      ],
      "text/plain": [
       "                               Name    Location  Year  Kilometers_Driven  \\\n",
       "0            Maruti Wagon R LXI CNG      Mumbai  2010              72000   \n",
       "1  Hyundai Creta 1.6 CRDi SX Option        Pune  2015              41000   \n",
       "2                      Honda Jazz V     Chennai  2011              46000   \n",
       "3                 Maruti Ertiga VDI     Chennai  2012              87000   \n",
       "4   Audi A4 New 2.0 TDI Multitronic  Coimbatore  2013              40670   \n",
       "\n",
       "  Fuel_Type Transmission Owner_Type     Mileage   Engine      Power  Seats  \\\n",
       "0       CNG       Manual      First  26.6 km/kg   998 CC  58.16 bhp    5.0   \n",
       "1    Diesel       Manual      First  19.67 kmpl  1582 CC  126.2 bhp    5.0   \n",
       "2    Petrol       Manual      First   18.2 kmpl  1199 CC   88.7 bhp    5.0   \n",
       "3    Diesel       Manual      First  20.77 kmpl  1248 CC  88.76 bhp    7.0   \n",
       "4    Diesel    Automatic     Second   15.2 kmpl  1968 CC  140.8 bhp    5.0   \n",
       "\n",
       "   New_Price  Price  \n",
       "0        NaN   1.75  \n",
       "1        NaN  12.50  \n",
       "2  8.61 Lakh   4.50  \n",
       "3        NaN   6.00  \n",
       "4        NaN  17.74  "
      ]
     },
     "execution_count": 7,
     "metadata": {},
     "output_type": "execute_result"
    }
   ],
   "source": [
    "df.head()"
   ]
  },
  {
   "cell_type": "code",
   "execution_count": 8,
   "id": "460bca4e",
   "metadata": {},
   "outputs": [
    {
     "data": {
      "text/plain": [
       "Name            1876\n",
       "Location          11\n",
       "Fuel_Type          5\n",
       "Transmission       2\n",
       "Owner_Type         4\n",
       "Mileage          442\n",
       "Engine           146\n",
       "Power            372\n",
       "New_Price        540\n",
       "dtype: int64"
      ]
     },
     "execution_count": 8,
     "metadata": {},
     "output_type": "execute_result"
    }
   ],
   "source": [
    "df.select_dtypes(exclude=nump.number).nunique()"
   ]
  },
  {
   "cell_type": "code",
   "execution_count": 9,
   "id": "e4b98dd9",
   "metadata": {},
   "outputs": [],
   "source": [
    "df.drop(\"Name\",axis=1,inplace=True)"
   ]
  },
  {
   "cell_type": "code",
   "execution_count": 10,
   "id": "9ce271f8",
   "metadata": {},
   "outputs": [
    {
     "data": {
      "text/plain": [
       "Location              0.000000\n",
       "Year                  0.000000\n",
       "Kilometers_Driven     0.000000\n",
       "Fuel_Type             0.000000\n",
       "Transmission          0.000000\n",
       "Owner_Type            0.000000\n",
       "Mileage               0.033228\n",
       "Engine                0.598106\n",
       "Power                 0.598106\n",
       "Seats                 0.697790\n",
       "New_Price            86.310018\n",
       "Price                 0.000000\n",
       "dtype: float64"
      ]
     },
     "execution_count": 10,
     "metadata": {},
     "output_type": "execute_result"
    }
   ],
   "source": [
    "(df.isnull().sum() / len(df)) * 100"
   ]
  },
  {
   "cell_type": "code",
   "execution_count": 11,
   "id": "e55f392e",
   "metadata": {},
   "outputs": [],
   "source": [
    "df.drop(\"New_Price\",axis=1,inplace=True) #DRopping NewPrice coloumn due to NUll VaLue"
   ]
  },
  {
   "cell_type": "code",
   "execution_count": 12,
   "id": "d92a5fa8",
   "metadata": {},
   "outputs": [],
   "source": [
    "for i in [\"Mileage\",\"Engine\",\"Power\"]:\n",
    "    df[i].replace({nump.nan:\"nan nan\"},inplace=True)"
   ]
  },
  {
   "cell_type": "code",
   "execution_count": 13,
   "id": "c48b4c67",
   "metadata": {},
   "outputs": [
    {
     "data": {
      "text/html": [
       "<div>\n",
       "<style scoped>\n",
       "    .dataframe tbody tr th:only-of-type {\n",
       "        vertical-align: middle;\n",
       "    }\n",
       "\n",
       "    .dataframe tbody tr th {\n",
       "        vertical-align: top;\n",
       "    }\n",
       "\n",
       "    .dataframe thead th {\n",
       "        text-align: right;\n",
       "    }\n",
       "</style>\n",
       "<table border=\"1\" class=\"dataframe\">\n",
       "  <thead>\n",
       "    <tr style=\"text-align: right;\">\n",
       "      <th></th>\n",
       "      <th>Location</th>\n",
       "      <th>Year</th>\n",
       "      <th>Kilometers_Driven</th>\n",
       "      <th>Fuel_Type</th>\n",
       "      <th>Transmission</th>\n",
       "      <th>Owner_Type</th>\n",
       "      <th>Mileage</th>\n",
       "      <th>Engine</th>\n",
       "      <th>Power</th>\n",
       "      <th>Seats</th>\n",
       "      <th>Price</th>\n",
       "    </tr>\n",
       "  </thead>\n",
       "  <tbody>\n",
       "    <tr>\n",
       "      <th>0</th>\n",
       "      <td>Mumbai</td>\n",
       "      <td>2010</td>\n",
       "      <td>72000</td>\n",
       "      <td>CNG</td>\n",
       "      <td>Manual</td>\n",
       "      <td>First</td>\n",
       "      <td>26.6 km/kg</td>\n",
       "      <td>998 CC</td>\n",
       "      <td>58.16 bhp</td>\n",
       "      <td>5.0</td>\n",
       "      <td>1.75</td>\n",
       "    </tr>\n",
       "    <tr>\n",
       "      <th>1</th>\n",
       "      <td>Pune</td>\n",
       "      <td>2015</td>\n",
       "      <td>41000</td>\n",
       "      <td>Diesel</td>\n",
       "      <td>Manual</td>\n",
       "      <td>First</td>\n",
       "      <td>19.67 kmpl</td>\n",
       "      <td>1582 CC</td>\n",
       "      <td>126.2 bhp</td>\n",
       "      <td>5.0</td>\n",
       "      <td>12.50</td>\n",
       "    </tr>\n",
       "    <tr>\n",
       "      <th>2</th>\n",
       "      <td>Chennai</td>\n",
       "      <td>2011</td>\n",
       "      <td>46000</td>\n",
       "      <td>Petrol</td>\n",
       "      <td>Manual</td>\n",
       "      <td>First</td>\n",
       "      <td>18.2 kmpl</td>\n",
       "      <td>1199 CC</td>\n",
       "      <td>88.7 bhp</td>\n",
       "      <td>5.0</td>\n",
       "      <td>4.50</td>\n",
       "    </tr>\n",
       "    <tr>\n",
       "      <th>3</th>\n",
       "      <td>Chennai</td>\n",
       "      <td>2012</td>\n",
       "      <td>87000</td>\n",
       "      <td>Diesel</td>\n",
       "      <td>Manual</td>\n",
       "      <td>First</td>\n",
       "      <td>20.77 kmpl</td>\n",
       "      <td>1248 CC</td>\n",
       "      <td>88.76 bhp</td>\n",
       "      <td>7.0</td>\n",
       "      <td>6.00</td>\n",
       "    </tr>\n",
       "    <tr>\n",
       "      <th>4</th>\n",
       "      <td>Coimbatore</td>\n",
       "      <td>2013</td>\n",
       "      <td>40670</td>\n",
       "      <td>Diesel</td>\n",
       "      <td>Automatic</td>\n",
       "      <td>Second</td>\n",
       "      <td>15.2 kmpl</td>\n",
       "      <td>1968 CC</td>\n",
       "      <td>140.8 bhp</td>\n",
       "      <td>5.0</td>\n",
       "      <td>17.74</td>\n",
       "    </tr>\n",
       "  </tbody>\n",
       "</table>\n",
       "</div>"
      ],
      "text/plain": [
       "     Location  Year  Kilometers_Driven Fuel_Type Transmission Owner_Type  \\\n",
       "0      Mumbai  2010              72000       CNG       Manual      First   \n",
       "1        Pune  2015              41000    Diesel       Manual      First   \n",
       "2     Chennai  2011              46000    Petrol       Manual      First   \n",
       "3     Chennai  2012              87000    Diesel       Manual      First   \n",
       "4  Coimbatore  2013              40670    Diesel    Automatic     Second   \n",
       "\n",
       "      Mileage   Engine      Power  Seats  Price  \n",
       "0  26.6 km/kg   998 CC  58.16 bhp    5.0   1.75  \n",
       "1  19.67 kmpl  1582 CC  126.2 bhp    5.0  12.50  \n",
       "2   18.2 kmpl  1199 CC   88.7 bhp    5.0   4.50  \n",
       "3  20.77 kmpl  1248 CC  88.76 bhp    7.0   6.00  \n",
       "4   15.2 kmpl  1968 CC  140.8 bhp    5.0  17.74  "
      ]
     },
     "execution_count": 13,
     "metadata": {},
     "output_type": "execute_result"
    }
   ],
   "source": [
    "df.head()"
   ]
  },
  {
   "cell_type": "code",
   "execution_count": 14,
   "id": "1ac68639",
   "metadata": {},
   "outputs": [],
   "source": [
    "for i in [\"Mileage\",\"Engine\",\"Power\"]:\n",
    "    df[i] = df[i].apply(lambda x:x.split()[0])"
   ]
  },
  {
   "cell_type": "code",
   "execution_count": 15,
   "id": "d5600af5",
   "metadata": {},
   "outputs": [],
   "source": [
    "for i in [\"Mileage\",\"Engine\",\"Power\"]:\n",
    "    df[i].replace({\"nan\":\"0\"},inplace=True)\n",
    "    df[i].replace({\"null\":\"0\"},inplace=True)"
   ]
  },
  {
   "cell_type": "code",
   "execution_count": 16,
   "id": "208b7b72",
   "metadata": {},
   "outputs": [],
   "source": [
    "for i in [\"Mileage\",\"Engine\",\"Power\"]:\n",
    "    df[i] = df[i].astype(\"float\")"
   ]
  },
  {
   "cell_type": "code",
   "execution_count": 17,
   "id": "da8e7692",
   "metadata": {},
   "outputs": [],
   "source": [
    "for i in [\"Mileage\",\"Engine\",\"Power\"]:\n",
    "    df[i].replace({0:nump.nan},inplace=True)"
   ]
  },
  {
   "cell_type": "code",
   "execution_count": 18,
   "id": "1b8171ee",
   "metadata": {},
   "outputs": [
    {
     "data": {
      "text/plain": [
       "Location             0.000000\n",
       "Year                 0.000000\n",
       "Kilometers_Driven    0.000000\n",
       "Fuel_Type            0.000000\n",
       "Transmission         0.000000\n",
       "Owner_Type           0.000000\n",
       "Mileage              1.162984\n",
       "Engine               0.598106\n",
       "Power                2.375810\n",
       "Seats                0.697790\n",
       "Price                0.000000\n",
       "dtype: float64"
      ]
     },
     "execution_count": 18,
     "metadata": {},
     "output_type": "execute_result"
    }
   ],
   "source": [
    "df.isnull().sum() / len(df)*100"
   ]
  },
  {
   "cell_type": "code",
   "execution_count": 19,
   "id": "46d0b4e6",
   "metadata": {},
   "outputs": [],
   "source": [
    "for i in [\"Mileage\",\"Engine\",\"Power\",\"Seats\"]:\n",
    "    df[i].fillna(df[i].median(),inplace=True) # filling the null values with the median of the column"
   ]
  },
  {
   "cell_type": "code",
   "execution_count": 20,
   "id": "861b428f",
   "metadata": {},
   "outputs": [
    {
     "data": {
      "text/plain": [
       "Location             0.0\n",
       "Year                 0.0\n",
       "Kilometers_Driven    0.0\n",
       "Fuel_Type            0.0\n",
       "Transmission         0.0\n",
       "Owner_Type           0.0\n",
       "Mileage              0.0\n",
       "Engine               0.0\n",
       "Power                0.0\n",
       "Seats                0.0\n",
       "Price                0.0\n",
       "dtype: float64"
      ]
     },
     "execution_count": 20,
     "metadata": {},
     "output_type": "execute_result"
    }
   ],
   "source": [
    "(df.isnull().sum() / len(df)) * 100"
   ]
  },
  {
   "cell_type": "code",
   "execution_count": 21,
   "id": "3bd98624",
   "metadata": {},
   "outputs": [
    {
     "data": {
      "text/plain": [
       "Seats\n",
       "2.0     55.211875\n",
       "4.0     20.752525\n",
       "7.0     14.837463\n",
       "6.0      9.511290\n",
       "5.0      8.461438\n",
       "8.0      7.458881\n",
       "9.0      4.450000\n",
       "10.0     4.280000\n",
       "Name: Price, dtype: float64"
      ]
     },
     "execution_count": 21,
     "metadata": {},
     "output_type": "execute_result"
    }
   ],
   "source": [
    "df.groupby(\"Seats\")[\"Price\"].mean().sort_values(ascending=False) ##GROUPBY is used and COlumn is sorted in descending order "
   ]
  },
  {
   "cell_type": "code",
   "execution_count": 22,
   "id": "3aa78c90",
   "metadata": {},
   "outputs": [
    {
     "data": {
      "text/plain": [
       "Seats\n",
       "2.0     54.500\n",
       "4.0      6.300\n",
       "5.0      5.200\n",
       "6.0      6.500\n",
       "7.0     10.750\n",
       "8.0      6.295\n",
       "9.0      4.500\n",
       "10.0     3.650\n",
       "Name: Price, dtype: float64"
      ]
     },
     "execution_count": 22,
     "metadata": {},
     "output_type": "execute_result"
    }
   ],
   "source": [
    "df.groupby(\"Seats\")[\"Price\"].median()"
   ]
  },
  {
   "cell_type": "code",
   "execution_count": 23,
   "id": "95892a2f",
   "metadata": {},
   "outputs": [
    {
     "data": {
      "text/html": [
       "<div>\n",
       "<style scoped>\n",
       "    .dataframe tbody tr th:only-of-type {\n",
       "        vertical-align: middle;\n",
       "    }\n",
       "\n",
       "    .dataframe tbody tr th {\n",
       "        vertical-align: top;\n",
       "    }\n",
       "\n",
       "    .dataframe thead th {\n",
       "        text-align: right;\n",
       "    }\n",
       "</style>\n",
       "<table border=\"1\" class=\"dataframe\">\n",
       "  <thead>\n",
       "    <tr style=\"text-align: right;\">\n",
       "      <th></th>\n",
       "      <th>Location</th>\n",
       "      <th>Year</th>\n",
       "      <th>Kilometers_Driven</th>\n",
       "      <th>Fuel_Type</th>\n",
       "      <th>Transmission</th>\n",
       "      <th>Owner_Type</th>\n",
       "      <th>Mileage</th>\n",
       "      <th>Engine</th>\n",
       "      <th>Power</th>\n",
       "      <th>Seats</th>\n",
       "      <th>Price</th>\n",
       "    </tr>\n",
       "  </thead>\n",
       "  <tbody>\n",
       "    <tr>\n",
       "      <th>0</th>\n",
       "      <td>Mumbai</td>\n",
       "      <td>2010</td>\n",
       "      <td>72000</td>\n",
       "      <td>CNG</td>\n",
       "      <td>Manual</td>\n",
       "      <td>First</td>\n",
       "      <td>26.60</td>\n",
       "      <td>998.0</td>\n",
       "      <td>58.16</td>\n",
       "      <td>5.0</td>\n",
       "      <td>1.75</td>\n",
       "    </tr>\n",
       "    <tr>\n",
       "      <th>1</th>\n",
       "      <td>Pune</td>\n",
       "      <td>2015</td>\n",
       "      <td>41000</td>\n",
       "      <td>Diesel</td>\n",
       "      <td>Manual</td>\n",
       "      <td>First</td>\n",
       "      <td>19.67</td>\n",
       "      <td>1582.0</td>\n",
       "      <td>126.20</td>\n",
       "      <td>5.0</td>\n",
       "      <td>12.50</td>\n",
       "    </tr>\n",
       "    <tr>\n",
       "      <th>2</th>\n",
       "      <td>Chennai</td>\n",
       "      <td>2011</td>\n",
       "      <td>46000</td>\n",
       "      <td>Petrol</td>\n",
       "      <td>Manual</td>\n",
       "      <td>First</td>\n",
       "      <td>18.20</td>\n",
       "      <td>1199.0</td>\n",
       "      <td>88.70</td>\n",
       "      <td>5.0</td>\n",
       "      <td>4.50</td>\n",
       "    </tr>\n",
       "    <tr>\n",
       "      <th>3</th>\n",
       "      <td>Chennai</td>\n",
       "      <td>2012</td>\n",
       "      <td>87000</td>\n",
       "      <td>Diesel</td>\n",
       "      <td>Manual</td>\n",
       "      <td>First</td>\n",
       "      <td>20.77</td>\n",
       "      <td>1248.0</td>\n",
       "      <td>88.76</td>\n",
       "      <td>7.0</td>\n",
       "      <td>6.00</td>\n",
       "    </tr>\n",
       "    <tr>\n",
       "      <th>4</th>\n",
       "      <td>Coimbatore</td>\n",
       "      <td>2013</td>\n",
       "      <td>40670</td>\n",
       "      <td>Diesel</td>\n",
       "      <td>Automatic</td>\n",
       "      <td>Second</td>\n",
       "      <td>15.20</td>\n",
       "      <td>1968.0</td>\n",
       "      <td>140.80</td>\n",
       "      <td>5.0</td>\n",
       "      <td>17.74</td>\n",
       "    </tr>\n",
       "  </tbody>\n",
       "</table>\n",
       "</div>"
      ],
      "text/plain": [
       "     Location  Year  Kilometers_Driven Fuel_Type Transmission Owner_Type  \\\n",
       "0      Mumbai  2010              72000       CNG       Manual      First   \n",
       "1        Pune  2015              41000    Diesel       Manual      First   \n",
       "2     Chennai  2011              46000    Petrol       Manual      First   \n",
       "3     Chennai  2012              87000    Diesel       Manual      First   \n",
       "4  Coimbatore  2013              40670    Diesel    Automatic     Second   \n",
       "\n",
       "   Mileage  Engine   Power  Seats  Price  \n",
       "0    26.60   998.0   58.16    5.0   1.75  \n",
       "1    19.67  1582.0  126.20    5.0  12.50  \n",
       "2    18.20  1199.0   88.70    5.0   4.50  \n",
       "3    20.77  1248.0   88.76    7.0   6.00  \n",
       "4    15.20  1968.0  140.80    5.0  17.74  "
      ]
     },
     "execution_count": 23,
     "metadata": {},
     "output_type": "execute_result"
    }
   ],
   "source": [
    "df.head()"
   ]
  },
  {
   "cell_type": "markdown",
   "id": "28152480",
   "metadata": {},
   "source": [
    "# LabelEncoder"
   ]
  },
  {
   "cell_type": "code",
   "execution_count": 24,
   "id": "dd0d1804",
   "metadata": {},
   "outputs": [
    {
     "name": "stdout",
     "output_type": "stream",
     "text": [
      "        Location  Year  Kilometers_Driven  Fuel_Type  Transmission Owner_Type  \\\n",
      "0         Mumbai  2010              72000          0             1      First   \n",
      "1           Pune  2015              41000          1             1      First   \n",
      "2        Chennai  2011              46000          4             1      First   \n",
      "3        Chennai  2012              87000          1             1      First   \n",
      "4     Coimbatore  2013              40670          1             0     Second   \n",
      "...          ...   ...                ...        ...           ...        ...   \n",
      "6014       Delhi  2014              27365          1             1      First   \n",
      "6015      Jaipur  2015             100000          1             1      First   \n",
      "6016      Jaipur  2012              55000          1             1     Second   \n",
      "6017     Kolkata  2013              46000          4             1      First   \n",
      "6018   Hyderabad  2011              47000          1             1      First   \n",
      "\n",
      "      Mileage  Engine   Power  Seats  Price  \n",
      "0       26.60   998.0   58.16    5.0   1.75  \n",
      "1       19.67  1582.0  126.20    5.0  12.50  \n",
      "2       18.20  1199.0   88.70    5.0   4.50  \n",
      "3       20.77  1248.0   88.76    7.0   6.00  \n",
      "4       15.20  1968.0  140.80    5.0  17.74  \n",
      "...       ...     ...     ...    ...    ...  \n",
      "6014    28.40  1248.0   74.00    5.0   4.75  \n",
      "6015    24.40  1120.0   71.00    5.0   4.00  \n",
      "6016    14.00  2498.0  112.00    8.0   2.90  \n",
      "6017    18.90   998.0   67.10    5.0   2.65  \n",
      "6018    25.44   936.0   57.60    5.0   2.50  \n",
      "\n",
      "[6019 rows x 11 columns]\n"
     ]
    }
   ],
   "source": [
    "from sklearn.preprocessing import LabelEncoder  # for converting object type variables to numerical type variables\n",
    "lbb_e = LabelEncoder()\n",
    "df['Fuel_Type'] = lbb_e.fit_transform(df['Fuel_Type'])\n",
    "df['Transmission'] = lbb_e.fit_transform(df['Transmission'])\n",
    "\n",
    "print(df)\n"
   ]
  },
  {
   "cell_type": "code",
   "execution_count": 25,
   "id": "9bd6bc59",
   "metadata": {},
   "outputs": [
    {
     "data": {
      "text/plain": [
       "array(['First', 'Second', 'Fourth & Above', 'Third'], dtype=object)"
      ]
     },
     "execution_count": 25,
     "metadata": {},
     "output_type": "execute_result"
    }
   ],
   "source": [
    "df.Owner_Type.unique()"
   ]
  },
  {
   "cell_type": "code",
   "execution_count": 26,
   "id": "cd0d281a",
   "metadata": {},
   "outputs": [],
   "source": [
    "for i in df.index:\n",
    "    if df.loc[i,\"Owner_Type\"] == \"First\": #providing index to FIRST\n",
    "        df.loc[i,\"Owner_Type\"] = 1       #Provided Index is 1\n",
    "    if df.loc[i,\"Owner_Type\"] == \"Second\": ##providing index to SECOND\n",
    "        df.loc[i,\"Owner_Type\"] = 2       #Provided Index is 2\n",
    "    if df.loc[i,\"Owner_Type\"] == \"Third\": #providing index to THIRD\n",
    "        df.loc[i,\"Owner_Type\"] = 3      #Provided Index is 3\n",
    "    if df.loc[i,\"Owner_Type\"] == \"Fourth & Above\": #providing index to FOURTH\n",
    "        df.loc[i,\"Owner_Type\"] = 4       #Provided Index is 4"
   ]
  },
  {
   "cell_type": "code",
   "execution_count": 27,
   "id": "91f6d8f2",
   "metadata": {},
   "outputs": [],
   "source": [
    "df.Owner_Type = df.Owner_Type.astype(\"int64\")"
   ]
  },
  {
   "cell_type": "code",
   "execution_count": 28,
   "id": "aa2219d0",
   "metadata": {},
   "outputs": [],
   "source": [
    "df.Location = df.Location.map(df.groupby(\"Location\")[\"Price\"].median())"
   ]
  },
  {
   "cell_type": "code",
   "execution_count": 29,
   "id": "4a955536",
   "metadata": {},
   "outputs": [
    {
     "data": {
      "text/html": [
       "<div>\n",
       "<style scoped>\n",
       "    .dataframe tbody tr th:only-of-type {\n",
       "        vertical-align: middle;\n",
       "    }\n",
       "\n",
       "    .dataframe tbody tr th {\n",
       "        vertical-align: top;\n",
       "    }\n",
       "\n",
       "    .dataframe thead th {\n",
       "        text-align: right;\n",
       "    }\n",
       "</style>\n",
       "<table border=\"1\" class=\"dataframe\">\n",
       "  <thead>\n",
       "    <tr style=\"text-align: right;\">\n",
       "      <th></th>\n",
       "      <th>Location</th>\n",
       "      <th>Year</th>\n",
       "      <th>Kilometers_Driven</th>\n",
       "      <th>Fuel_Type</th>\n",
       "      <th>Transmission</th>\n",
       "      <th>Owner_Type</th>\n",
       "      <th>Mileage</th>\n",
       "      <th>Engine</th>\n",
       "      <th>Power</th>\n",
       "      <th>Seats</th>\n",
       "      <th>Price</th>\n",
       "    </tr>\n",
       "  </thead>\n",
       "  <tbody>\n",
       "    <tr>\n",
       "      <th>0</th>\n",
       "      <td>5.750</td>\n",
       "      <td>2010</td>\n",
       "      <td>72000</td>\n",
       "      <td>0</td>\n",
       "      <td>1</td>\n",
       "      <td>1</td>\n",
       "      <td>26.60</td>\n",
       "      <td>998.0</td>\n",
       "      <td>58.16</td>\n",
       "      <td>5.0</td>\n",
       "      <td>1.75</td>\n",
       "    </tr>\n",
       "    <tr>\n",
       "      <th>1</th>\n",
       "      <td>4.250</td>\n",
       "      <td>2015</td>\n",
       "      <td>41000</td>\n",
       "      <td>1</td>\n",
       "      <td>1</td>\n",
       "      <td>1</td>\n",
       "      <td>19.67</td>\n",
       "      <td>1582.0</td>\n",
       "      <td>126.20</td>\n",
       "      <td>5.0</td>\n",
       "      <td>12.50</td>\n",
       "    </tr>\n",
       "    <tr>\n",
       "      <th>2</th>\n",
       "      <td>4.500</td>\n",
       "      <td>2011</td>\n",
       "      <td>46000</td>\n",
       "      <td>4</td>\n",
       "      <td>1</td>\n",
       "      <td>1</td>\n",
       "      <td>18.20</td>\n",
       "      <td>1199.0</td>\n",
       "      <td>88.70</td>\n",
       "      <td>5.0</td>\n",
       "      <td>4.50</td>\n",
       "    </tr>\n",
       "    <tr>\n",
       "      <th>3</th>\n",
       "      <td>4.500</td>\n",
       "      <td>2012</td>\n",
       "      <td>87000</td>\n",
       "      <td>1</td>\n",
       "      <td>1</td>\n",
       "      <td>1</td>\n",
       "      <td>20.77</td>\n",
       "      <td>1248.0</td>\n",
       "      <td>88.76</td>\n",
       "      <td>7.0</td>\n",
       "      <td>6.00</td>\n",
       "    </tr>\n",
       "    <tr>\n",
       "      <th>4</th>\n",
       "      <td>8.305</td>\n",
       "      <td>2013</td>\n",
       "      <td>40670</td>\n",
       "      <td>1</td>\n",
       "      <td>0</td>\n",
       "      <td>2</td>\n",
       "      <td>15.20</td>\n",
       "      <td>1968.0</td>\n",
       "      <td>140.80</td>\n",
       "      <td>5.0</td>\n",
       "      <td>17.74</td>\n",
       "    </tr>\n",
       "  </tbody>\n",
       "</table>\n",
       "</div>"
      ],
      "text/plain": [
       "   Location  Year  Kilometers_Driven  Fuel_Type  Transmission  Owner_Type  \\\n",
       "0     5.750  2010              72000          0             1           1   \n",
       "1     4.250  2015              41000          1             1           1   \n",
       "2     4.500  2011              46000          4             1           1   \n",
       "3     4.500  2012              87000          1             1           1   \n",
       "4     8.305  2013              40670          1             0           2   \n",
       "\n",
       "   Mileage  Engine   Power  Seats  Price  \n",
       "0    26.60   998.0   58.16    5.0   1.75  \n",
       "1    19.67  1582.0  126.20    5.0  12.50  \n",
       "2    18.20  1199.0   88.70    5.0   4.50  \n",
       "3    20.77  1248.0   88.76    7.0   6.00  \n",
       "4    15.20  1968.0  140.80    5.0  17.74  "
      ]
     },
     "execution_count": 29,
     "metadata": {},
     "output_type": "execute_result"
    }
   ],
   "source": [
    "df.head()"
   ]
  },
  {
   "cell_type": "code",
   "execution_count": 30,
   "id": "88ac8d59",
   "metadata": {},
   "outputs": [
    {
     "data": {
      "image/png": "[encoded data removed]",
      "text/plain": [
       "<Figure size 665x3135 with 11 Axes>"
      ]
     },
     "metadata": {},
     "output_type": "display_data"
    }
   ],
   "source": [
    "# Box Plots\n",
    "num_cols = df.shape[1]\n",
    "fig, axs = mplot.subplots(num_cols, 1, dpi=95, figsize=(7, 3*num_cols))\n",
    "for loop, col in enumerate(df.columns):          # iterating every colmn of data\n",
    "    axs[loop].boxplot(df[col], vert=False)  #BOXplot\n",
    "    axs[loop].set_ylabel(col)          #for the ouTliers\n",
    "\n",
    "mplot.tight_layout()  # To ensure proper spacing between subplots\n",
    "mplot.show()"
   ]
  },
  {
   "cell_type": "code",
   "execution_count": 31,
   "id": "0720f9a8",
   "metadata": {},
   "outputs": [],
   "source": [
    "\n",
    "quo1, quo3 = nump.percentile(df['Year'], [25, 75]) # Identifying the lower and upper quartile\n",
    "inter_qr = quo3 - quo1\n",
    "L_boun = quo1 - (1.5 * inter_qr)    # caculating bounds\n",
    "U_boun = quo3 + (1.5 * inter_qr)     # caculating bounds\n",
    "df = df[(df['Year'] >= L_boun)      # dropping outliers\n",
    "                & (df['Year'] <= U_boun)]"
   ]
  },
  {
   "cell_type": "code",
   "execution_count": 32,
   "id": "ff180c58",
   "metadata": {},
   "outputs": [],
   "source": [
    "quo1, quo3 = nump.percentile(df['Engine'], [25, 75])  # Identifying the lower and upper quartile\n",
    "inter_qr = quo3 - quo1\n",
    "L_boun = quo1 - (1.5 * inter_qr)  # caculating bounds\n",
    "U_boun = quo3 + (1.5 * inter_qr)  # caculating bounds\n",
    "df = df[(df['Engine'] >= L_boun)   # dropping outliers\n",
    "                & (df['Engine'] <= U_boun)]"
   ]
  },
  {
   "cell_type": "code",
   "execution_count": 33,
   "id": "c71f4322",
   "metadata": {},
   "outputs": [],
   "source": [
    "quo1, quo3 = nump.percentile(df['Power'], [25, 75])  # Identifying the lower and upper quartile\n",
    "inter_qr = quo3 - quo1 \n",
    "L_boun = quo1 - (1.5 * inter_qr)  # caculating bounds\n",
    "U_boun = quo3 + (1.5 * inter_qr) # caculating bounds\n",
    "df = df[(df['Power'] >= L_boun)  # dropping outliers\n",
    "                & (df['Power'] <= U_boun)]"
   ]
  },
  {
   "cell_type": "code",
   "execution_count": 34,
   "id": "7a137667",
   "metadata": {},
   "outputs": [],
   "source": [
    "quo1, quo3 = nump.percentile(df['Seats'], [25, 75]) # Identifying the lower and upper quartile\n",
    "inter_qr = quo3 - quo1\n",
    "L_boun = quo1 - (1.5 * inter_qr) # caculating bounds\n",
    "U_boun = quo3 + (1.5 * inter_qr)  # caculating bounds\n",
    "df = df[(df['Seats'] >= L_boun)   # dropping outliers\n",
    "                & (df['Seats'] <= U_boun)]"
   ]
  },
  {
   "cell_type": "code",
   "execution_count": 35,
   "id": "cf2fbae6",
   "metadata": {},
   "outputs": [],
   "source": [
    "\n",
    "quo1, quo3 = nump.percentile(df['Price'], [25, 75]) # Identifying the lower and upper quartile\n",
    "\n",
    "inter_qr = quo3 - quo1\n",
    "L_boun = quo1 - (1.5 * inter_qr)  # caculating bounds\n",
    "U_boun = quo3 + (1.5 * inter_qr)  # caculating bounds\n",
    "df = df[(df['Price'] >= L_boun)  # dropping outliers\n",
    "                & (df['Price'] <= U_boun)]"
   ]
  },
  {
   "cell_type": "code",
   "execution_count": 36,
   "id": "354cd7e3",
   "metadata": {},
   "outputs": [],
   "source": [
    "X = df.drop(\"Price\",axis=1)   # creating INdependent variable containing all attribbutes except the price\n",
    "y = df.Price             # creating dependent variable containing the attribute price"
   ]
  },
  {
   "cell_type": "markdown",
   "id": "53856b27",
   "metadata": {},
   "source": [
    "# Training =75% and Testing=25% using Random Forest"
   ]
  },
  {
   "cell_type": "code",
   "execution_count": 37,
   "id": "29c9004b",
   "metadata": {},
   "outputs": [],
   "source": [
    "X_t, X_tst, y_t, y_tst = train_test_split(X, y, test_size=0.25, random_state=42) ##Importing TrainTestSplit From SKL.MODELSELECTION FOR 25 prcent testing data"
   ]
  },
  {
   "cell_type": "code",
   "execution_count": 38,
   "id": "764fd694",
   "metadata": {},
   "outputs": [],
   "source": [
    "\n",
    "r_reg = RandomForestRegressor(n_estimators=100, random_state=42)\n",
    " \n",
    "r_reg.fit(X_t, y_t)   # using fit to train\n",
    "\n",
    "# Make predictions On The test Data\n",
    "y_pre = r_reg.predict(X_tst)\n"
   ]
  },
  {
   "cell_type": "code",
   "execution_count": 39,
   "id": "3d53ede8",
   "metadata": {},
   "outputs": [
    {
     "name": "stdout",
     "output_type": "stream",
     "text": [
      "M_S_E  OF TEST DATA USING RANDOM FOREST 1.169398665132205\n",
      "RM_S_E  OF TEST DATA USING RANDOM FOREST 1.0813873797729494\n",
      "M_A_E OF TEST DATA USING RANDOM FOREST 0.6926525077447335\n",
      "R2-SCORE OF TEST DATA USING RANDOM FOREST: 0.8671108683443405\n"
     ]
    }
   ],
   "source": [
    "# Evaluate the model\n",
    "M_S_E=mean_squared_error(y_tst,y_pre)  #calcUlating MEAN SUARRED ERROR\n",
    "rM_S_E = nump.sqrt(mean_squared_error(y_tst,y_pre)) #calcUlating ROOT MEAN SUARRED ERROR\n",
    "M_A_E=mean_absolute_error(y_tst,y_pre)  ##calcUlating MEAN ABSOLUTE ERROR\n",
    "r2 = r2_score(y_tst, y_pre) #calculating R2SCORe\n",
    "print(\"M_S_E  OF TEST DATA USING RANDOM FOREST\",M_S_E) \n",
    "print(\"RM_S_E  OF TEST DATA USING RANDOM FOREST\",rM_S_E)\n",
    "print(\"M_A_E OF TEST DATA USING RANDOM FOREST\",M_A_E)\n",
    "print(\"R2-SCORE OF TEST DATA USING RANDOM FOREST:\", r2)"
   ]
  },
  {
   "cell_type": "markdown",
   "id": "378c5dec",
   "metadata": {},
   "source": [
    "#  Training =80% and Testing=20% using Random Forest"
   ]
  },
  {
   "cell_type": "code",
   "execution_count": 40,
   "id": "834cf791",
   "metadata": {},
   "outputs": [],
   "source": [
    "X_t, X_tst, y_t, y_tst = train_test_split(X, y, test_size=0.20, random_state=42) ##Importing TrainTestSplit From SKL.MODELSELECTION FOR 20 prcent testing data"
   ]
  },
  {
   "cell_type": "code",
   "execution_count": 41,
   "id": "e61555e1",
   "metadata": {},
   "outputs": [],
   "source": [
    "# Create the Random Forest regressor\n",
    "r_reg = RandomForestRegressor(n_estimators=100, random_state=42)\n",
    "\n",
    "# Train the model on the training data\n",
    "r_reg.fit(X_t, y_t)\n",
    "\n",
    "# Make predictions on the test data\n",
    "y_pre = r_reg.predict(X_tst)\n"
   ]
  },
  {
   "cell_type": "code",
   "execution_count": 42,
   "id": "2a98b5e5",
   "metadata": {},
   "outputs": [
    {
     "name": "stdout",
     "output_type": "stream",
     "text": [
      "M_S_E OF TEST DATA USING RANDOM FOREST 1.0661767161294604\n",
      "RM_S_E OF TEST DATA USING RANDOM FOREST 1.0661767161294604\n",
      "M_A_E OF TEST DATA USING RANDOM FOREST 0.6859726001511715\n",
      "R2-SCORE OF TEST DATA USING RANDOM FOREST 0.872780632254947\n"
     ]
    }
   ],
   "source": [
    "# Evaluate the model\n",
    "M_S_E=mean_squared_error(y_tst,y_pre)   #calcUlating MEAN SUARRED ERROR\n",
    "rM_S_E = nump.sqrt(mean_squared_error(y_tst,y_pre))#calcUlating ROOT MEAN SUARRED ERROR\n",
    "M_A_E=mean_absolute_error(y_tst,y_pre) ##calcUlating MEAN ABSOLUTE ERROR\n",
    "r2 = r2_score(y_tst, y_pre) #calculating R2SCORe\n",
    "print(\"M_S_E OF TEST DATA USING RANDOM FOREST\",rM_S_E)\n",
    "print(\"RM_S_E OF TEST DATA USING RANDOM FOREST\",rM_S_E)\n",
    "print(\"M_A_E OF TEST DATA USING RANDOM FOREST\",M_A_E)\n",
    "print(\"R2-SCORE OF TEST DATA USING RANDOM FOREST\", r2)"
   ]
  },
  {
   "cell_type": "markdown",
   "id": "99bb1fc6",
   "metadata": {},
   "source": [
    "#  Training =85% and Testing=15% using Random Forest"
   ]
  },
  {
   "cell_type": "code",
   "execution_count": 43,
   "id": "9bd6da0f",
   "metadata": {},
   "outputs": [],
   "source": [
    "X_t, X_tst, y_t, y_tst = train_test_split(X, y, test_size=0.15, random_state=42) ##Importing TrainTestSplit From SKL.MODELSELECTION FOR 15 prcent testing data"
   ]
  },
  {
   "cell_type": "markdown",
   "id": "90e7ab1f",
   "metadata": {},
   "source": [
    "# for n-estimators=90"
   ]
  },
  {
   "cell_type": "code",
   "execution_count": 44,
   "id": "d7bac0eb",
   "metadata": {},
   "outputs": [],
   "source": [
    "# Create the Random Forest regressor\n",
    "Rf_Reg = RandomForestRegressor(n_estimators=90, random_state=42)\n",
    "\n",
    "# Train the model on the training data\n",
    "Rf_Reg.fit(X_t, y_t)\n",
    "\n",
    "# Make predictions on the test data\n",
    "y_pre = Rf_Reg.predict(X_tst)\n"
   ]
  },
  {
   "cell_type": "code",
   "execution_count": 45,
   "id": "a676d106",
   "metadata": {},
   "outputs": [
    {
     "name": "stdout",
     "output_type": "stream",
     "text": [
      "M_S_E OF TEST DATA FOR N_ESTIMATORS=90, USING RANDOM FOREST 1.1794091729446972\n",
      "RM_S_E OF TEST DATA FOR N_ESTIMATORS=90, USING RANDOM FOREST 1.0860060648747305\n",
      "M_A_E OF TEST DATA FOR N_ESTIMATORS=90, USING RANDOM FOREST 0.6890450308778482\n",
      "R2-SCORE OF TEST DATA FOR N_ESTIMATORS=90, USING RANDOM FOREST 0.8677358723851435\n"
     ]
    }
   ],
   "source": [
    " #evaluate\n",
    "M_S_E=mean_squared_error(y_tst,y_pre)   #calcUlating MEAN SUARRED ERROR\n",
    "rM_S_E = nump.sqrt(mean_squared_error(y_tst,y_pre))  #calcUlating ROOT MEAN SUARRED ERROR\n",
    "M_A_E=mean_absolute_error(y_tst,y_pre)    ##calcUlating MEAN ABSOLUTE ERROR\n",
    "r2 = r2_score(y_tst, y_pre)            #calculating R2SCORe\n",
    "print(\"M_S_E OF TEST DATA FOR N_ESTIMATORS=90, USING RANDOM FOREST\",M_S_E)\n",
    "print(\"RM_S_E OF TEST DATA FOR N_ESTIMATORS=90, USING RANDOM FOREST\",rM_S_E)\n",
    "print(\"M_A_E OF TEST DATA FOR N_ESTIMATORS=90, USING RANDOM FOREST\",M_A_E)\n",
    "print(\"R2-SCORE OF TEST DATA FOR N_ESTIMATORS=90, USING RANDOM FOREST\", r2)"
   ]
  },
  {
   "cell_type": "markdown",
   "id": "a99d3323",
   "metadata": {},
   "source": [
    "# for n-estimators =100"
   ]
  },
  {
   "cell_type": "code",
   "execution_count": 46,
   "id": "389cbc27",
   "metadata": {},
   "outputs": [],
   "source": [
    "# Create the Random Forest regressor\n",
    "Rf_Reg = RandomForestRegressor(n_estimators=100, random_state=42)\n",
    "\n",
    "# Train the model on the training data\n",
    "Rf_Reg.fit(X_t, y_t)\n",
    "\n",
    "# Make predictions on the test data\n",
    "y_pre = Rf_Reg.predict(X_tst)"
   ]
  },
  {
   "cell_type": "code",
   "execution_count": 47,
   "id": "282752ed",
   "metadata": {},
   "outputs": [
    {
     "name": "stdout",
     "output_type": "stream",
     "text": [
      "M_S_E OF TEST DATA FOR N_ESTIMATORS=100, USING RANDOM FOREST 1.1830042392453741\n",
      "RM_S_E OF TEST DATA FOR N_ESTIMATORS=100, USING RANDOM FOREST 1.087659983287688\n",
      "M_A_E OF TEST DATA FOR N_ESTIMATORS=100, USING RANDOM FOREST 0.689232573713696\n",
      "R2-SCORE OF TEST FOR N_ESTIMATORS=100, DATA USING RANDOM FOREST 0.8673327058515228\n"
     ]
    }
   ],
   "source": [
    "# Evaluate the model for n_estimators=100\n",
    "M_S_E=mean_squared_error(y_tst,y_pre) #calcUlating MEAN SUARRED ERROR\n",
    "rM_S_E = nump.sqrt(mean_squared_error(y_tst,y_pre)) #calcUlating ROOT MEAN SUARRED ERROR\n",
    "M_A_E=mean_absolute_error(y_tst,y_pre)  ##calcUlating MEAN ABSOLUTE ERROR\n",
    "r2 = r2_score(y_tst, y_pre)   #calculating R2SCORe\n",
    "print(\"M_S_E OF TEST DATA FOR N_ESTIMATORS=100, USING RANDOM FOREST\",M_S_E)\n",
    "print(\"RM_S_E OF TEST DATA FOR N_ESTIMATORS=100, USING RANDOM FOREST\",rM_S_E)\n",
    "print(\"M_A_E OF TEST DATA FOR N_ESTIMATORS=100, USING RANDOM FOREST\",M_A_E)\n",
    "print(\"R2-SCORE OF TEST FOR N_ESTIMATORS=100, DATA USING RANDOM FOREST\", r2)"
   ]
  },
  {
   "cell_type": "markdown",
   "id": "ed54a9bd",
   "metadata": {},
   "source": [
    "# for n-estimators=110"
   ]
  },
  {
   "cell_type": "code",
   "execution_count": 48,
   "id": "c74db510",
   "metadata": {},
   "outputs": [],
   "source": [
    "# Create the Random Forest regressor\n",
    "Rf_Reg = RandomForestRegressor(n_estimators=110, random_state=42)\n",
    "\n",
    "# Train the model on the training data\n",
    "Rf_Reg.fit(X_t, y_t)\n",
    "\n",
    "# Make predictions on the test data\n",
    "y_pre =Rf_Reg.predict(X_tst)"
   ]
  },
  {
   "cell_type": "code",
   "execution_count": 49,
   "id": "75e5885a",
   "metadata": {},
   "outputs": [
    {
     "name": "stdout",
     "output_type": "stream",
     "text": [
      "M_S_E OF TEST DATA FOR N_ESTIMATORS=110, USING RANDOM FOREST 1.18507413464996\n",
      "RM_S_E OF TEST DATA FOR N_ESTIMATORS=110, USING RANDOM FOREST 1.0886111034937866\n",
      "M_A_E OF TEST DATA FOR N_ESTIMATORS=110, USING RANDOM FOREST 0.689151926943026\n",
      "R2-SCORE OF TEST FOR N_ESTIMATORS=110, DATA USING RANDOM FOREST 0.8671005786846143\n"
     ]
    }
   ],
   "source": [
    "# Evaluate the model for n_estimators=110\n",
    "M_S_E=mean_squared_error(y_tst,y_pre)  #calcUlating MEAN SUARRED ERROR\n",
    "rM_S_E = nump.sqrt(mean_squared_error(y_tst,y_pre))#calcUlating ROOT MEAN SUARRED ERROR\n",
    "M_A_E=mean_absolute_error(y_tst,y_pre)  ##calcUlating MEAN ABSOLUTE ERROR\n",
    "r2 = r2_score(y_tst, y_pre)   #calculating R2SCORe\n",
    "print(\"M_S_E OF TEST DATA FOR N_ESTIMATORS=110, USING RANDOM FOREST\",M_S_E)\n",
    "print(\"RM_S_E OF TEST DATA FOR N_ESTIMATORS=110, USING RANDOM FOREST\",rM_S_E)\n",
    "print(\"M_A_E OF TEST DATA FOR N_ESTIMATORS=110, USING RANDOM FOREST\",M_A_E)\n",
    "print(\"R2-SCORE OF TEST FOR N_ESTIMATORS=110, DATA USING RANDOM FOREST\", r2)"
   ]
  },
  {
   "cell_type": "markdown",
   "id": "8b3d0c25",
   "metadata": {},
   "source": [
    "#  Training =75% and Testing=25% using lgbm"
   ]
  },
  {
   "cell_type": "code",
   "execution_count": 50,
   "id": "f7e13432",
   "metadata": {},
   "outputs": [
    {
     "name": "stdout",
     "output_type": "stream",
     "text": [
      "[LightGBM] [Info] Total Bins 759\n",
      "[LightGBM] [Info] Number of data points in the train set: 3227, number of used features: 9\n",
      "[LightGBM] [Info] Start training from score 5.199551\n"
     ]
    }
   ],
   "source": [
    "# Step 1: Split data into training and testing sets\n",
    "X_t, X_tst, y_t, y_tst = train_test_split(X, y, test_size=0.25, random_state=42) ##Importing TrainTestSplit From SKL.MODELSELECTION FOR 25 prcent testing data\n",
    "\n",
    "# Step 2: Create and train the ligbmMRegressor model\n",
    "Lb_Reg = ligbm.LGBMRegressor(force_row_wise=True)  # Set force_row_wise=True to remove the warning\n",
    "Lb_Reg.fit(X_t, y_t)\n",
    "\n",
    "# Step 3: Make predictions on the testing data\n",
    "y_pre = Lb_Reg.predict(X_tst)"
   ]
  },
  {
   "cell_type": "code",
   "execution_count": 51,
   "id": "4387d135",
   "metadata": {},
   "outputs": [
    {
     "name": "stdout",
     "output_type": "stream",
     "text": [
      "M_S_E OF TEST DATA USING ligbm 0.9616469024571181\n",
      "RM_S_E OF TEST DATA USING ligbm 0.9806359683680372\n",
      "M_A_E OF TEST DATA USING ligbm 0.6420736066428658\n",
      "R2-SCORE OF TEST DATA USING ligbm 0.8907195419002519\n"
     ]
    }
   ],
   "source": [
    "# Evaluate the model\n",
    "M_S_E=mean_squared_error(y_tst,y_pre)   #calcUlating MEAN SUARRED ERROR\n",
    "rM_S_E = nump.sqrt(mean_squared_error(y_tst,y_pre)) #calcUlating ROOT MEAN SUARRED ERROR\n",
    "M_A_E=mean_absolute_error(y_tst,y_pre)  ##calcUlating MEAN ABSOLUTE ERROR\n",
    "r2 = r2_score(y_tst, y_pre)  #calculating R2SCORe\n",
    "print(\"M_S_E OF TEST DATA USING ligbm\",M_S_E)\n",
    "print(\"RM_S_E OF TEST DATA USING ligbm\",rM_S_E)\n",
    "print(\"M_A_E OF TEST DATA USING ligbm\",M_A_E)\n",
    "print(\"R2-SCORE OF TEST DATA USING ligbm\", r2)\n"
   ]
  },
  {
   "cell_type": "markdown",
   "id": "5f30991b",
   "metadata": {},
   "source": [
    "#   Training =80% and Testing=20% using lgbm"
   ]
  },
  {
   "cell_type": "code",
   "execution_count": 52,
   "id": "ef1eb673",
   "metadata": {},
   "outputs": [
    {
     "name": "stdout",
     "output_type": "stream",
     "text": [
      "[LightGBM] [Info] Total Bins 763\n",
      "[LightGBM] [Info] Number of data points in the train set: 3442, number of used features: 9\n",
      "[LightGBM] [Info] Start training from score 5.198550\n"
     ]
    }
   ],
   "source": [
    "# Step 1: Split data into training and testing sets\n",
    "X_t, X_tst, y_t, y_tst = train_test_split(X, y, test_size=0.20, random_state=42) ##Importing TrainTestSplit From SKL.MODELSELECTION FOR 20 prcent testing data\n",
    "\n",
    "# Step 2: Create and train the ligbmMRegressor model\n",
    "# Set force_row_wise=True to remove the warning\n",
    "ligbm_regressor = ligbm.LGBMRegressor(force_row_wise=True)\n",
    "ligbm_regressor.fit(X_t, y_t)\n",
    "\n",
    "# Step 3: Make predictions on the testing data\n",
    "y_pre = ligbm_regressor.predict(X_tst)\n"
   ]
  },
  {
   "cell_type": "code",
   "execution_count": 53,
   "id": "b1ba90bd",
   "metadata": {},
   "outputs": [
    {
     "name": "stdout",
     "output_type": "stream",
     "text": [
      "M_S_E OF TEST DATA USING ligbm 0.9717493389222678\n",
      "RM_S_E OF TEST DATA USING ligbm 0.9857734724176076\n",
      "M_A_E OF TEST DATA USING RANDOM ligbm 0.6466856570452988\n",
      "R2-SCORE OF TEST DATA USING ligbm 0.8912450334941435\n"
     ]
    }
   ],
   "source": [
    "# Evaluate the model\n",
    "M_S_E=mean_squared_error(y_tst,y_pre)  #calcUlating MEAN SUARRED ERROR\n",
    "rM_S_E = nump.sqrt(mean_squared_error(y_tst,y_pre)) #calcUlating ROOT MEAN SUARRED ERROR\n",
    "M_A_E=mean_absolute_error(y_tst,y_pre)  ##calcUlating MEAN ABSOLUTE ERROR\n",
    "r2 = r2_score(y_tst, y_pre)  #calculating R2SCORe\n",
    "print(\"M_S_E OF TEST DATA USING lgbm\",M_S_E)\n",
    "print(\"RM_S_E OF TEST DATA USING lgbm\",rM_S_E)\n",
    "print(\"M_A_E OF TEST DATA USING RANDOM lgbm\",M_A_E)\n",
    "print(\"R2-SCORE OF TEST DATA USING lgbm\", r2)"
   ]
  },
  {
   "cell_type": "markdown",
   "id": "26999e06",
   "metadata": {},
   "source": [
    "#  Training =85% and Testing=15% using lgbm"
   ]
  },
  {
   "cell_type": "code",
   "execution_count": 54,
   "id": "44c9c427",
   "metadata": {},
   "outputs": [
    {
     "name": "stdout",
     "output_type": "stream",
     "text": [
      "[LightGBM] [Warning] Auto-choosing row-wise multi-threading, the overhead of testing was 0.000214 seconds.\n",
      "You can set `force_row_wise=true` to remove the overhead.\n",
      "And if memory is not enough, you can set `force_col_wise=true`.\n",
      "[LightGBM] [Info] Total Bins 769\n",
      "[LightGBM] [Info] Number of data points in the train set: 3657, number of used features: 9\n",
      "[LightGBM] [Info] Start training from score 5.203251\n"
     ]
    }
   ],
   "source": [
    "# Step 1: Split data into training and testing sets\n",
    "X_t, X_tst, y_t, y_tst = train_test_split(X, y, test_size=0.15, random_state=42)  ##Importing TrainTestSplit From SKL.MODELSELECTION FOR 15 prcent testing data\n",
    "\n",
    "# Step 2: Create and train the ligbmMRegressor model\n",
    "# Set force_row_wise=True to remove the warning\n",
    "ligbm_regressor = ligbm.LGBMRegressor() \n",
    "ligbm_regressor.fit(X_t, y_t)\n",
    "\n",
    "# Step 3: Make predictions on the testing data\n",
    "y_pre = ligbm_regressor.predict(X_tst)\n"
   ]
  },
  {
   "cell_type": "code",
   "execution_count": 55,
   "id": "6128cd62",
   "metadata": {},
   "outputs": [
    {
     "name": "stdout",
     "output_type": "stream",
     "text": [
      "M_S_E OF TEST DATA USING ligbm 1.0027819382655123\n",
      "RM_S_E OF TEST DATA USING ligbm 1.001390003078477\n",
      "M_A_E OF TEST DATA USING ligbm 0.6527965020658273\n",
      "R2-SCORE OF TEST DATA USING ligbm 0.8875436266775228\n"
     ]
    }
   ],
   "source": [
    "# Evaluate the model\n",
    "M_S_E=mean_squared_error(y_tst,y_pre)  #calcUlating MEAN SUARRED ERROR\n",
    "rM_S_E = nump.sqrt(mean_squared_error(y_tst,y_pre)) #calcUlating ROOT MEAN SUARRED ERROR\n",
    "M_A_E=mean_absolute_error(y_tst,y_pre)  ##calcUlating MEAN ABSOLUTE ERROR\n",
    "r2 = r2_score(y_tst, y_pre)   #calculating R2SCORe\n",
    "print(\"M_S_E OF TEST DATA USING ligbm\",M_S_E)\n",
    "print(\"RM_S_E OF TEST DATA USING ligbm\",rM_S_E)\n",
    "print(\"M_A_E OF TEST DATA USING ligbm\",M_A_E)\n",
    "print(\"R2-SCORE OF TEST DATA USING ligbm\", r2)"
   ]
  },
  {
   "cell_type": "markdown",
   "id": "07b8c7c5",
   "metadata": {},
   "source": [
    "# TRAINING DATA"
   ]
  },
  {
   "cell_type": "markdown",
   "id": "c7328ac1",
   "metadata": {},
   "source": [
    "# 1) USING RANDOM FOREST"
   ]
  },
  {
   "cell_type": "code",
   "execution_count": 56,
   "id": "844e73c7",
   "metadata": {},
   "outputs": [],
   "source": [
    "X_t, X_tst, y_t, y_tst = train_test_split(X, y, test_size=0.25, random_state=42) ##Importing TrainTestSplit From SKL.MODELSELECTION FOR 25 prcent testing data\n",
    "r_reg = RandomForestRegressor(n_estimators=100, random_state=42)\n",
    "\n",
    "# Train the model on the training data\n",
    "r_reg.fit(X_t, y_t)\n",
    "\n",
    "# Make predictions on the test data\n",
    "y_pre_t = r_reg.predict(X_t)"
   ]
  },
  {
   "cell_type": "code",
   "execution_count": 57,
   "id": "5edf1fe8",
   "metadata": {},
   "outputs": [
    {
     "name": "stdout",
     "output_type": "stream",
     "text": [
      "M_S_E OF TRAIN DATA USING ligbm 0.16206718211419943\n",
      "RM_S_E OF TRAIN DATA USING ligbm 0.40257568495153734\n",
      "M_A_E OF TRAIN DATA USING ligbm 0.2595597089291247\n",
      "R2-SCORE OF TRAIN DATA USING ligbm 0.9804288233385972\n"
     ]
    }
   ],
   "source": [
    "# Evaluate the model\n",
    "M_S_E=mean_squared_error(y_t,y_pre_t)\n",
    "rM_S_E = nump.sqrt(mean_squared_error(y_t,y_pre_t))#calcUlating ROOT MEAN SUARRED ERROR\n",
    "M_A_E=mean_absolute_error(y_t,y_pre_t)  ##calcUlating MEAN ABSOLUTE ERROR\n",
    "r2 = r2_score(y_t, y_pre_t)     #calculating R2SCORe\n",
    "print(\"M_S_E OF TRAIN DATA USING ligbm\",M_S_E)\n",
    "print(\"RM_S_E OF TRAIN DATA USING ligbm\",rM_S_E)\n",
    "print(\"M_A_E OF TRAIN DATA USING ligbm\",M_A_E)\n",
    "print(\"R2-SCORE OF TRAIN DATA USING ligbm\", r2)"
   ]
  },
  {
   "cell_type": "code",
   "execution_count": 58,
   "id": "aebd62ed",
   "metadata": {},
   "outputs": [],
   "source": [
    "X_t, X_tst, y_t, y_tst = train_test_split(X, y, test_size=0.20, random_state=42) ##Importing TrainTestSplit From SKL.MODELSELECTION FOR 20 prcent testing data\n",
    "\n",
    "# Make predictions on the test data\n",
    "y_pre_t = r_reg.predict(X_t)"
   ]
  },
  {
   "cell_type": "code",
   "execution_count": 59,
   "id": "e3ffdcee",
   "metadata": {},
   "outputs": [
    {
     "name": "stdout",
     "output_type": "stream",
     "text": [
      "M_S_E OF TRAIN DATA USING ligbm 0.22668702777660252\n",
      "RM_S_E OF TRAIN DATA USING ligbm 0.47611661153188356\n",
      "M_A_E OF TRAIN DATA USING ligbm 0.2863795770039566\n",
      "R2-SCORE OF TRAIN DATA USING ligbm 0.9726204204270692\n"
     ]
    }
   ],
   "source": [
    "M_S_E=mean_squared_error(y_t,y_pre_t)  #calcUlating MEAN SUARRED ERROR\n",
    "rM_S_E = nump.sqrt(mean_squared_error(y_t,y_pre_t))#calcUlating ROOT MEAN SUARRED ERROR\n",
    "M_A_E=mean_absolute_error(y_t,y_pre_t) ##calcUlating MEAN ABSOLUTE ERROR\n",
    "r2 = r2_score(y_t, y_pre_t)   #calculating R2SCORe\n",
    "print(\"M_S_E OF TRAIN DATA USING ligbm\",M_S_E)\n",
    "print(\"RM_S_E OF TRAIN DATA USING ligbm\",rM_S_E)\n",
    "print(\"M_A_E OF TRAIN DATA USING ligbm\",M_A_E)\n",
    "print(\"R2-SCORE OF TRAIN DATA USING ligbm\", r2)"
   ]
  },
  {
   "cell_type": "code",
   "execution_count": 60,
   "id": "768830ad",
   "metadata": {},
   "outputs": [],
   "source": [
    "X_t, X_tst, y_t, y_tst = train_test_split(X, y, test_size=0.15, random_state=42) ##Importing TrainTestSplit From SKL.MODELSELECTION FOR 15 prcent testing data\n",
    "\n",
    "# Make predictions on the test data\n",
    "y_pre_t = r_reg.predict(X_t)"
   ]
  },
  {
   "cell_type": "code",
   "execution_count": 61,
   "id": "51587e48",
   "metadata": {},
   "outputs": [
    {
     "name": "stdout",
     "output_type": "stream",
     "text": [
      "M_S_E OF TRAIN DATA USING ligbm 0.22668702777660252\n",
      "RM_S_E OF TRAIN DATA USING ligbm 0.47611661153188356\n",
      "M_A_E OF TRAIN DATA USING ligbm 0.2863795770039566\n",
      "R2-SCORE OF TRAIN DATA USING ligbm 0.9726204204270692\n"
     ]
    }
   ],
   "source": [
    "print(\"M_S_E OF TRAIN DATA USING ligbm\",M_S_E)\n",
    "print(\"RM_S_E OF TRAIN DATA USING ligbm\",rM_S_E)\n",
    "print(\"M_A_E OF TRAIN DATA USING ligbm\",M_A_E)\n",
    "print(\"R2-SCORE OF TRAIN DATA USING ligbm\", r2)"
   ]
  },
  {
   "cell_type": "markdown",
   "id": "6a02b3ae",
   "metadata": {},
   "source": [
    "# 2)lgbm"
   ]
  },
  {
   "cell_type": "code",
   "execution_count": null,
   "id": "3f6612e0",
   "metadata": {},
   "outputs": [],
   "source": [
    "# Step 1: Split data into training and testing sets\n",
    "X_t, X_tst, y_t, y_tst = train_test_split(X, y, test_size=0.25, random_state=42)  ##Importing TrainTestSplit From SKL.MODELSELECTION FOR 25 prcent testing data\n",
    "\n",
    "# Step 2: Create and train the ligbmMRegressor model\n",
    "ligbm_regressor = ligbm.LGBMRegressor(force_row_wise=True)  # Set force_row_wise=True to remove the warning\n",
    "ligbm_regressor.fit(X_t, y_t)\n",
    "\n",
    "# Step 3: Make predictions on the testing data\n",
    "y_pre_t = ligbm_regressor.predict(X_t)"
   ]
  },
  {
   "cell_type": "code",
   "execution_count": 63,
   "id": "4d61e580",
   "metadata": {},
   "outputs": [
    {
     "name": "stdout",
     "output_type": "stream",
     "text": [
      "M_S_E OF TRAIN DATA USING ligbm 0.44306920878056544\n",
      "RM_S_E OF TRAIN DATA USING ligbm 0.6656344408010793\n",
      "M_A_E OF TRAIN DATA USING ligbm 0.46441004696390087\n",
      "R2-SCORE OF TRAIN DATA USING ligbm 0.9464951161292965\n"
     ]
    }
   ],
   "source": [
    "M_S_E=mean_squared_error(y_t,y_pre_t)  #calcUlating MEAN SUARRED ERROR\n",
    "rM_S_E = nump.sqrt(mean_squared_error(y_t,y_pre_t))#calcUlating ROOT MEAN SUARRED ERROR\n",
    "M_A_E=mean_absolute_error(y_t,y_pre_t) ##calcUlating MEAN ABSOLUTE ERROR\n",
    "r2 = r2_score(y_t, y_pre_t)    #calculating R2SCORe\n",
    "print(\"M_S_E OF TRAIN DATA USING ligbm\",M_S_E)\n",
    "print(\"RM_S_E OF TRAIN DATA USING ligbm\",rM_S_E)\n",
    "print(\"M_A_E OF TRAIN DATA USING ligbm\",M_A_E)\n",
    "print(\"R2-SCORE OF TRAIN DATA USING ligbm\", r2)"
   ]
  },
  {
   "cell_type": "code",
   "execution_count": 64,
   "id": "f819d318",
   "metadata": {},
   "outputs": [],
   "source": [
    "X_t, X_tst, y_t, y_tst = train_test_split(X, y, test_size=0.20, random_state=42) ##Importing TrainTestSplit From SKL.MODELSELECTION FOR 20 prcent testing data\n",
    "\n",
    "# Step 3: Make predictions on the testing data\n",
    "y_pre_t = ligbm_regressor.predict(X_t)"
   ]
  },
  {
   "cell_type": "code",
   "execution_count": 65,
   "id": "fd98cc31",
   "metadata": {},
   "outputs": [
    {
     "name": "stdout",
     "output_type": "stream",
     "text": [
      "M_S_E OF TRAIN DATA USING ligbm 0.4736417452559269\n",
      "RM_S_E OF TRAIN DATA USING ligbm 0.6882163506165244\n",
      "M_A_E OF TRAIN DATA USING ligbm 0.47503478563636997\n",
      "R2-SCORE OF TRAIN DATA USING ligbm 0.9427928806491901\n"
     ]
    }
   ],
   "source": [
    "M_S_E=mean_squared_error(y_t,y_pre_t)   #calcUlating MEAN SUARRED ERROR\n",
    "rM_S_E = nump.sqrt(mean_squared_error(y_t,y_pre_t))#calcUlating ROOT MEAN SUARRED ERROR\n",
    "M_A_E=mean_absolute_error(y_t,y_pre_t) ##calcUlating MEAN ABSOLUTE ERROR\n",
    "r2 = r2_score(y_t, y_pre_t)   #calculating R2SCORe\n",
    "print(\"M_S_E OF TRAIN DATA USING ligbm\",M_S_E)\n",
    "print(\"RM_S_E OF TRAIN DATA USING ligbm\",rM_S_E)\n",
    "print(\"M_A_E OF TRAIN DATA USING ligbm\",M_A_E)\n",
    "print(\"R2-SCORE OF TRAIN DATA USING ligbm\", r2)"
   ]
  },
  {
   "cell_type": "code",
   "execution_count": 66,
   "id": "6ff49fdf",
   "metadata": {},
   "outputs": [],
   "source": [
    "X_t, X_tst, y_t, y_tst = train_test_split(X, y, test_size=0.15, random_state=42) ##Importing TrainTestSplit From SKL.MODELSELECTION FOR 15 prcent testing data\n",
    "\n",
    "# Step 3: Make predictions on the testing data\n",
    "y_pre_t = ligbm_regressor.predict(X_t)"
   ]
  },
  {
   "cell_type": "code",
   "execution_count": 67,
   "id": "9cd24c97",
   "metadata": {},
   "outputs": [
    {
     "name": "stdout",
     "output_type": "stream",
     "text": [
      "M_S_E OF TRAIN DATA USING ligbm 0.4956055417437069\n",
      "RM_S_E OF TRAIN DATA USING ligbm 0.7039925722219709\n",
      "M_A_E OF TRAIN DATA USING ligbm 0.48304244115541484\n",
      "R2-SCORE OF TRAIN DATA USING ligbm 0.9404406729785681\n"
     ]
    }
   ],
   "source": [
    "M_S_E=mean_squared_error(y_t,y_pre_t)  #calcUlating MEAN SUARRED ERROR\n",
    "rM_S_E = nump.sqrt(mean_squared_error(y_t,y_pre_t))#calcUlating ROOT MEAN SUARRED ERROR\n",
    "M_A_E=mean_absolute_error(y_t,y_pre_t)  ##calcUlating MEAN ABSOLUTE ERROR\n",
    "r2 = r2_score(y_t, y_pre_t)   #calculating R2SCORe\n",
    "print(\"M_S_E OF TRAIN DATA USING ligbm\",M_S_E)\n",
    "print(\"RM_S_E OF TRAIN DATA USING ligbm\",rM_S_E)\n",
    "print(\"M_A_E OF TRAIN DATA USING ligbm\",M_A_E)\n",
    "print(\"R2-SCORE OF TRAIN DATA USING ligbm\", r2)"
   ]
  },
  {
   "cell_type": "markdown",
   "id": "5e063c8a",
   "metadata": {},
   "source": [
    "# For Cross-Validation=5 using lgbm"
   ]
  },
  {
   "cell_type": "code",
   "execution_count": 68,
   "id": "aea97130",
   "metadata": {},
   "outputs": [],
   "source": [
    "X_t, X_tst, y_t, y_tst = train_test_split(X, y, test_size=0.15, random_state=42) ##Importing TrainTestSplit From SKL.MODELSELECTION FOR 15 prcent testing data"
   ]
  },
  {
   "cell_type": "code",
   "execution_count": 69,
   "id": "d88dbaef",
   "metadata": {},
   "outputs": [
    {
     "name": "stdout",
     "output_type": "stream",
     "text": [
      "[LightGBM] [Info] Total Bins 755\n",
      "[LightGBM] [Info] Number of data points in the train set: 3442, number of used features: 9\n",
      "[LightGBM] [Info] Start training from score 5.226319\n",
      "[LightGBM] [Info] Total Bins 757\n",
      "[LightGBM] [Info] Number of data points in the train set: 3442, number of used features: 9\n",
      "[LightGBM] [Info] Start training from score 5.209988\n",
      "[LightGBM] [Info] Total Bins 763\n",
      "[LightGBM] [Info] Number of data points in the train set: 3442, number of used features: 9\n",
      "[LightGBM] [Info] Start training from score 5.179916\n",
      "[LightGBM] [Info] Total Bins 758\n",
      "[LightGBM] [Info] Number of data points in the train set: 3443, number of used features: 9\n",
      "[LightGBM] [Info] Start training from score 5.202399\n",
      "[LightGBM] [Info] Total Bins 764\n",
      "[LightGBM] [Info] Number of data points in the train set: 3443, number of used features: 9\n",
      "[LightGBM] [Info] Start training from score 5.189631\n"
     ]
    }
   ],
   "source": [
    "# Step 1: Create the ligbmMRegressor model\n",
    "ligbm_regressor = ligbm.LGBMRegressor(force_row_wise=True)\n",
    "\n",
    "# Step 2: Define the scoring function (R-squared in this case)\n",
    "sc = make_scorer(r2_score)\n",
    "\n",
    "# Step 3: Perform cross-validation and get the scores\n",
    "cv5 = cross_val_score(ligbm_regressor, X, y, cv=5, scoring=sc)\n",
    "\n",
    "# Step 4: Calculate the average R-squared score\n",
    "average_score = nump.mean(cv5)\n"
   ]
  },
  {
   "cell_type": "code",
   "execution_count": 70,
   "id": "3fbd6257",
   "metadata": {},
   "outputs": [
    {
     "name": "stdout",
     "output_type": "stream",
     "text": [
      " R-squared Scores for cv=5 using ligbm: [0.88580808 0.86347417 0.87785349 0.86619123 0.88643535]\n",
      "Average R-squared Score for cv=5 using ligbm: 0.8759524626350881\n"
     ]
    }
   ],
   "source": [
    "print(\" R-squared Scores for cv=5 using ligbm:\", cv5)\n",
    "print(\"Average R-squared Score for cv=5 using ligbm:\", average_score)"
   ]
  },
  {
   "cell_type": "markdown",
   "id": "71eb50d6",
   "metadata": {},
   "source": [
    "#  For Cross-Validation=10 using lgbm"
   ]
  },
  {
   "cell_type": "code",
   "execution_count": 71,
   "id": "91c1db98",
   "metadata": {},
   "outputs": [
    {
     "name": "stdout",
     "output_type": "stream",
     "text": [
      "[LightGBM] [Info] Total Bins 767\n",
      "[LightGBM] [Info] Number of data points in the train set: 3872, number of used features: 9\n",
      "[LightGBM] [Info] Start training from score 5.233525\n",
      "[LightGBM] [Info] Total Bins 765\n",
      "[LightGBM] [Info] Number of data points in the train set: 3872, number of used features: 9\n",
      "[LightGBM] [Info] Start training from score 5.192531\n",
      "[LightGBM] [Info] Total Bins 769\n",
      "[LightGBM] [Info] Number of data points in the train set: 3872, number of used features: 9\n",
      "[LightGBM] [Info] Start training from score 5.208923\n",
      "[LightGBM] [Info] Total Bins 768\n",
      "[LightGBM] [Info] Number of data points in the train set: 3873, number of used features: 9\n",
      "[LightGBM] [Info] Start training from score 5.201275\n",
      "[LightGBM] [Info] Total Bins 768\n",
      "[LightGBM] [Info] Number of data points in the train set: 3873, number of used features: 9\n",
      "[LightGBM] [Info] Start training from score 5.197872\n",
      "[LightGBM] [Info] Total Bins 768\n",
      "[LightGBM] [Info] Number of data points in the train set: 3873, number of used features: 9\n",
      "[LightGBM] [Info] Start training from score 5.185799\n",
      "[LightGBM] [Info] Total Bins 764\n",
      "[LightGBM] [Info] Number of data points in the train set: 3873, number of used features: 9\n",
      "[LightGBM] [Info] Start training from score 5.200413\n",
      "[LightGBM] [Info] Total Bins 765\n",
      "[LightGBM] [Info] Number of data points in the train set: 3873, number of used features: 9\n",
      "[LightGBM] [Info] Start training from score 5.203553\n",
      "[LightGBM] [Info] Total Bins 771\n",
      "[LightGBM] [Info] Number of data points in the train set: 3873, number of used features: 9\n",
      "[LightGBM] [Info] Start training from score 5.198373\n",
      "[LightGBM] [Info] Total Bins 768\n",
      "[LightGBM] [Info] Number of data points in the train set: 3873, number of used features: 9\n",
      "[LightGBM] [Info] Start training from score 5.194242\n"
     ]
    }
   ],
   "source": [
    "# STESP 3: Perform cross-validation and get the scores\n",
    "cv10 = cross_val_score(ligbm_regressor, X, y, cv=10, scoring=sc)\n",
    "\n",
    "# STESP 4: Calculate the average R-squared score\n",
    "average_score = nump.mean(cv10)\n",
    "\n"
   ]
  },
  {
   "cell_type": "code",
   "execution_count": 72,
   "id": "84d396ec",
   "metadata": {},
   "outputs": [
    {
     "name": "stdout",
     "output_type": "stream",
     "text": [
      " R-squared Scores for cv=10 using ligbm: [0.88033199 0.88429176 0.890888   0.89356862 0.89973949 0.86820388\n",
      " 0.88151438 0.85407091 0.88190856 0.89671098]\n",
      "Average R-squared Score for cv=10 using ligbm: 0.8831228569010579\n"
     ]
    }
   ],
   "source": [
    "print(\" R-squared Scores for cv=10 using ligbm:\", cv10);\n",
    "print(\"Average R-squared Score for cv=10 using ligbm:\", average_score);"
   ]
  },
  {
   "cell_type": "markdown",
   "id": "de5ebb38",
   "metadata": {},
   "source": [
    "#  For Cross-Validation=5 using Random Forest"
   ]
  },
  {
   "cell_type": "code",
   "execution_count": 73,
   "id": "e610c516",
   "metadata": {},
   "outputs": [
    {
     "name": "stdout",
     "output_type": "stream",
     "text": [
      " R-squared Scores using for cv=5 using RANDOM FOREST : [0.87727877 0.85353867 0.86967379 0.85429757 0.88432915]\n",
      "Average R-squared Score FOR cv=5 USING RANDOM FOREST: 0.8678235906903089\n"
     ]
    }
   ],
   "source": [
    "r_reg = RandomForestRegressor()\n",
    "\n",
    "# Step 2: definying The Scoring Function (R-squared in this case)\n",
    "scoring_function = make_scorer(r2_score)\n",
    "\n",
    "# Step 3: Perform cross-validation and get the scores\n",
    "cv_scores = cross_val_score(r_reg, X, y, cv=5, scoring=scoring_function)\n",
    "\n",
    "# Step 4: Calculate the average R-squared score\n",
    "average_score = nump.mean(cv_scores)\n",
    "\n",
    "print(\" R-squared Scores using for cv=5 using RANDOM FOREST :\", cv_scores)\n",
    "print(\"Average R-squared Score FOR cv=5 USING RANDOM FOREST:\", average_score)"
   ]
  },
  {
   "cell_type": "markdown",
   "id": "83f39eac",
   "metadata": {},
   "source": [
    "# For Cross-Validation=10 using Random Forest"
   ]
  },
  {
   "cell_type": "code",
   "execution_count": 74,
   "id": "3f9c041b",
   "metadata": {},
   "outputs": [
    {
     "name": "stdout",
     "output_type": "stream",
     "text": [
      " R-squared Scores using for cv=10 using RANDOM FOREST : [0.87221572 0.87357995 0.86530252 0.8710412  0.89747697 0.84846985\n",
      " 0.86330846 0.84546949 0.8766939  0.89125973]\n",
      "Average R-squared Score FOR cv=10 USING RANDOM FOREST: 0.8704817792004146\n"
     ]
    }
   ],
   "source": [
    "# Step 3: Perform cross-validation and get the scores\n",
    "cv_s_10 = cross_val_score(r_reg, X, y, cv=10, scoring=scoring_function)\n",
    "\n",
    "# Step 4: Calculate the average R-squared score\n",
    "average_score = nump.mean(cv_s_10)\n",
    "\n",
    "print(\" R-squared Scores using for cv=10 using RANDOM FOREST :\", cv_s_10)\n",
    "print(\"Average R-squared Score FOR cv=10 USING RANDOM FOREST:\", average_score)"
   ]
  },
  {
   "cell_type": "code",
   "execution_count": null,
   "id": "99ab7a4a",
   "metadata": {},
   "outputs": [],
   "source": []
  }
 ],
 "metadata": {
  "kernelspec": {
   "display_name": "Python 3 (ipykernel)",
   "language": "python",
   "name": "python3"
  },
  "language_info": {
   "codemirror_mode": {
    "name": "ipython",
    "version": 3
   },
   "file_extension": ".py",
   "mimetype": "text/x-python",
   "name": "python",
   "nbconvert_exporter": "python",
   "pygments_lexer": "ipython3",
   "version": "3.10.9"
  }
 },
 "nbformat": 4,
 "nbformat_minor": 5
}
