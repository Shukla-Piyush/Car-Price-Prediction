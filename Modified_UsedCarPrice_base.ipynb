{
 "cells": [
  {
   "cell_type": "code",
   "execution_count": 1,
   "id": "38945e6b",
   "metadata": {},
   "outputs": [],
   "source": [
    "import numpy as nump # for mathematical caalculation\n",
    "import pandas as panda # for data manipulation\n",
    "import seaborn as sea   # for 3D data visualization\n",
    "import matplotlib.pyplot as mplot   # for 2D data visualization\n",
    "from sklearn.model_selection import train_test_split  # splitting the data in train and test part\n",
    "from sklearn.metrics import  mean_squared_error , r2_score, mean_absolute_error #To calculate accuracy  and error\n",
    "import scipy.stats as stats\n",
    "from sklearn.model_selection import cross_val_score # importing for cross validation\n",
    "from sklearn.neighbors import KNeighborsRegressor  # import the regressor"
   ]
  },
  {
   "cell_type": "code",
   "execution_count": 2,
   "id": "43c4a412",
   "metadata": {},
   "outputs": [],
   "source": [
    "df=panda.read_csv(\"car_price (1).csv\")  #DATAset is imported"
   ]
  },
  {
   "cell_type": "code",
   "execution_count": 3,
   "id": "3b8b4975",
   "metadata": {},
   "outputs": [
    {
     "name": "stdout",
     "output_type": "stream",
     "text": [
      "<class 'pandas.core.frame.DataFrame'>\n",
      "RangeIndex: 6019 entries, 0 to 6018\n",
      "Data columns (total 14 columns):\n",
      " #   Column             Non-Null Count  Dtype  \n",
      "---  ------             --------------  -----  \n",
      " 0   Unnamed: 0         6019 non-null   int64  \n",
      " 1   Name               6019 non-null   object \n",
      " 2   Location           6019 non-null   object \n",
      " 3   Year               6019 non-null   int64  \n",
      " 4   Kilometers_Driven  6019 non-null   int64  \n",
      " 5   Fuel_Type          6019 non-null   object \n",
      " 6   Transmission       6019 non-null   object \n",
      " 7   Owner_Type         6019 non-null   object \n",
      " 8   Mileage            6017 non-null   object \n",
      " 9   Engine             5983 non-null   object \n",
      " 10  Power              5983 non-null   object \n",
      " 11  Seats              5977 non-null   float64\n",
      " 12  New_Price          824 non-null    object \n",
      " 13  Price              6019 non-null   float64\n",
      "dtypes: float64(2), int64(3), object(9)\n",
      "memory usage: 658.5+ KB\n"
     ]
    }
   ],
   "source": [
    "df.info()"
   ]
  },
  {
   "cell_type": "code",
   "execution_count": 4,
   "id": "d6b82d8d",
   "metadata": {},
   "outputs": [
    {
     "data": {
      "text/html": [
       "<div>\n",
       "<style scoped>\n",
       "    .dataframe tbody tr th:only-of-type {\n",
       "        vertical-align: middle;\n",
       "    }\n",
       "\n",
       "    .dataframe tbody tr th {\n",
       "        vertical-align: top;\n",
       "    }\n",
       "\n",
       "    .dataframe thead th {\n",
       "        text-align: right;\n",
       "    }\n",
       "</style>\n",
       "<table border=\"1\" class=\"dataframe\">\n",
       "  <thead>\n",
       "    <tr style=\"text-align: right;\">\n",
       "      <th></th>\n",
       "      <th>Unnamed: 0</th>\n",
       "      <th>Name</th>\n",
       "      <th>Location</th>\n",
       "      <th>Year</th>\n",
       "      <th>Kilometers_Driven</th>\n",
       "      <th>Fuel_Type</th>\n",
       "      <th>Transmission</th>\n",
       "      <th>Owner_Type</th>\n",
       "      <th>Mileage</th>\n",
       "      <th>Engine</th>\n",
       "      <th>Power</th>\n",
       "      <th>Seats</th>\n",
       "      <th>New_Price</th>\n",
       "      <th>Price</th>\n",
       "    </tr>\n",
       "  </thead>\n",
       "  <tbody>\n",
       "    <tr>\n",
       "      <th>0</th>\n",
       "      <td>0</td>\n",
       "      <td>Maruti Wagon R LXI CNG</td>\n",
       "      <td>Mumbai</td>\n",
       "      <td>2010</td>\n",
       "      <td>72000</td>\n",
       "      <td>CNG</td>\n",
       "      <td>Manual</td>\n",
       "      <td>First</td>\n",
       "      <td>26.6 km/kg</td>\n",
       "      <td>998 CC</td>\n",
       "      <td>58.16 bhp</td>\n",
       "      <td>5.0</td>\n",
       "      <td>NaN</td>\n",
       "      <td>1.75</td>\n",
       "    </tr>\n",
       "    <tr>\n",
       "      <th>1</th>\n",
       "      <td>1</td>\n",
       "      <td>Hyundai Creta 1.6 CRDi SX Option</td>\n",
       "      <td>Pune</td>\n",
       "      <td>2015</td>\n",
       "      <td>41000</td>\n",
       "      <td>Diesel</td>\n",
       "      <td>Manual</td>\n",
       "      <td>First</td>\n",
       "      <td>19.67 kmpl</td>\n",
       "      <td>1582 CC</td>\n",
       "      <td>126.2 bhp</td>\n",
       "      <td>5.0</td>\n",
       "      <td>NaN</td>\n",
       "      <td>12.50</td>\n",
       "    </tr>\n",
       "    <tr>\n",
       "      <th>2</th>\n",
       "      <td>2</td>\n",
       "      <td>Honda Jazz V</td>\n",
       "      <td>Chennai</td>\n",
       "      <td>2011</td>\n",
       "      <td>46000</td>\n",
       "      <td>Petrol</td>\n",
       "      <td>Manual</td>\n",
       "      <td>First</td>\n",
       "      <td>18.2 kmpl</td>\n",
       "      <td>1199 CC</td>\n",
       "      <td>88.7 bhp</td>\n",
       "      <td>5.0</td>\n",
       "      <td>8.61 Lakh</td>\n",
       "      <td>4.50</td>\n",
       "    </tr>\n",
       "    <tr>\n",
       "      <th>3</th>\n",
       "      <td>3</td>\n",
       "      <td>Maruti Ertiga VDI</td>\n",
       "      <td>Chennai</td>\n",
       "      <td>2012</td>\n",
       "      <td>87000</td>\n",
       "      <td>Diesel</td>\n",
       "      <td>Manual</td>\n",
       "      <td>First</td>\n",
       "      <td>20.77 kmpl</td>\n",
       "      <td>1248 CC</td>\n",
       "      <td>88.76 bhp</td>\n",
       "      <td>7.0</td>\n",
       "      <td>NaN</td>\n",
       "      <td>6.00</td>\n",
       "    </tr>\n",
       "    <tr>\n",
       "      <th>4</th>\n",
       "      <td>4</td>\n",
       "      <td>Audi A4 New 2.0 TDI Multitronic</td>\n",
       "      <td>Coimbatore</td>\n",
       "      <td>2013</td>\n",
       "      <td>40670</td>\n",
       "      <td>Diesel</td>\n",
       "      <td>Automatic</td>\n",
       "      <td>Second</td>\n",
       "      <td>15.2 kmpl</td>\n",
       "      <td>1968 CC</td>\n",
       "      <td>140.8 bhp</td>\n",
       "      <td>5.0</td>\n",
       "      <td>NaN</td>\n",
       "      <td>17.74</td>\n",
       "    </tr>\n",
       "  </tbody>\n",
       "</table>\n",
       "</div>"
      ],
      "text/plain": [
       "   Unnamed: 0                              Name    Location  Year  \\\n",
       "0           0            Maruti Wagon R LXI CNG      Mumbai  2010   \n",
       "1           1  Hyundai Creta 1.6 CRDi SX Option        Pune  2015   \n",
       "2           2                      Honda Jazz V     Chennai  2011   \n",
       "3           3                 Maruti Ertiga VDI     Chennai  2012   \n",
       "4           4   Audi A4 New 2.0 TDI Multitronic  Coimbatore  2013   \n",
       "\n",
       "   Kilometers_Driven Fuel_Type Transmission Owner_Type     Mileage   Engine  \\\n",
       "0              72000       CNG       Manual      First  26.6 km/kg   998 CC   \n",
       "1              41000    Diesel       Manual      First  19.67 kmpl  1582 CC   \n",
       "2              46000    Petrol       Manual      First   18.2 kmpl  1199 CC   \n",
       "3              87000    Diesel       Manual      First  20.77 kmpl  1248 CC   \n",
       "4              40670    Diesel    Automatic     Second   15.2 kmpl  1968 CC   \n",
       "\n",
       "       Power  Seats  New_Price  Price  \n",
       "0  58.16 bhp    5.0        NaN   1.75  \n",
       "1  126.2 bhp    5.0        NaN  12.50  \n",
       "2   88.7 bhp    5.0  8.61 Lakh   4.50  \n",
       "3  88.76 bhp    7.0        NaN   6.00  \n",
       "4  140.8 bhp    5.0        NaN  17.74  "
      ]
     },
     "execution_count": 4,
     "metadata": {},
     "output_type": "execute_result"
    }
   ],
   "source": [
    "df.head()"
   ]
  },
  {
   "cell_type": "code",
   "execution_count": 5,
   "id": "de3472bc",
   "metadata": {},
   "outputs": [
    {
     "data": {
      "text/plain": [
       "(6019, 14)"
      ]
     },
     "execution_count": 5,
     "metadata": {},
     "output_type": "execute_result"
    }
   ],
   "source": [
    "df.shape"
   ]
  },
  {
   "cell_type": "markdown",
   "id": "23a965d9",
   "metadata": {},
   "source": [
    "# Data Preprocessing"
   ]
  },
  {
   "cell_type": "code",
   "execution_count": 6,
   "id": "e9d8a02b",
   "metadata": {},
   "outputs": [],
   "source": [
    "df.Seats.replace(to_replace=0, value=df.Seats.median(), inplace=True)   # replacinng the values having 0 to the median of the column"
   ]
  },
  {
   "cell_type": "code",
   "execution_count": 7,
   "id": "8e17439a",
   "metadata": {},
   "outputs": [],
   "source": [
    "df.drop(\"Unnamed: 0\",axis=1,inplace=True)  # Removing the column not required to be involved "
   ]
  },
  {
   "cell_type": "code",
   "execution_count": 8,
   "id": "aad408cc",
   "metadata": {},
   "outputs": [],
   "source": [
    "#df.Year = df.Year.astype(\"object\") "
   ]
  },
  {
   "cell_type": "code",
   "execution_count": 9,
   "id": "a7e2288a",
   "metadata": {},
   "outputs": [
    {
     "data": {
      "text/html": [
       "<div>\n",
       "<style scoped>\n",
       "    .dataframe tbody tr th:only-of-type {\n",
       "        vertical-align: middle;\n",
       "    }\n",
       "\n",
       "    .dataframe tbody tr th {\n",
       "        vertical-align: top;\n",
       "    }\n",
       "\n",
       "    .dataframe thead th {\n",
       "        text-align: right;\n",
       "    }\n",
       "</style>\n",
       "<table border=\"1\" class=\"dataframe\">\n",
       "  <thead>\n",
       "    <tr style=\"text-align: right;\">\n",
       "      <th></th>\n",
       "      <th>Name</th>\n",
       "      <th>Location</th>\n",
       "      <th>Year</th>\n",
       "      <th>Kilometers_Driven</th>\n",
       "      <th>Fuel_Type</th>\n",
       "      <th>Transmission</th>\n",
       "      <th>Owner_Type</th>\n",
       "      <th>Mileage</th>\n",
       "      <th>Engine</th>\n",
       "      <th>Power</th>\n",
       "      <th>Seats</th>\n",
       "      <th>New_Price</th>\n",
       "      <th>Price</th>\n",
       "    </tr>\n",
       "  </thead>\n",
       "  <tbody>\n",
       "    <tr>\n",
       "      <th>0</th>\n",
       "      <td>Maruti Wagon R LXI CNG</td>\n",
       "      <td>Mumbai</td>\n",
       "      <td>2010</td>\n",
       "      <td>72000</td>\n",
       "      <td>CNG</td>\n",
       "      <td>Manual</td>\n",
       "      <td>First</td>\n",
       "      <td>26.6 km/kg</td>\n",
       "      <td>998 CC</td>\n",
       "      <td>58.16 bhp</td>\n",
       "      <td>5.0</td>\n",
       "      <td>NaN</td>\n",
       "      <td>1.75</td>\n",
       "    </tr>\n",
       "    <tr>\n",
       "      <th>1</th>\n",
       "      <td>Hyundai Creta 1.6 CRDi SX Option</td>\n",
       "      <td>Pune</td>\n",
       "      <td>2015</td>\n",
       "      <td>41000</td>\n",
       "      <td>Diesel</td>\n",
       "      <td>Manual</td>\n",
       "      <td>First</td>\n",
       "      <td>19.67 kmpl</td>\n",
       "      <td>1582 CC</td>\n",
       "      <td>126.2 bhp</td>\n",
       "      <td>5.0</td>\n",
       "      <td>NaN</td>\n",
       "      <td>12.50</td>\n",
       "    </tr>\n",
       "    <tr>\n",
       "      <th>2</th>\n",
       "      <td>Honda Jazz V</td>\n",
       "      <td>Chennai</td>\n",
       "      <td>2011</td>\n",
       "      <td>46000</td>\n",
       "      <td>Petrol</td>\n",
       "      <td>Manual</td>\n",
       "      <td>First</td>\n",
       "      <td>18.2 kmpl</td>\n",
       "      <td>1199 CC</td>\n",
       "      <td>88.7 bhp</td>\n",
       "      <td>5.0</td>\n",
       "      <td>8.61 Lakh</td>\n",
       "      <td>4.50</td>\n",
       "    </tr>\n",
       "    <tr>\n",
       "      <th>3</th>\n",
       "      <td>Maruti Ertiga VDI</td>\n",
       "      <td>Chennai</td>\n",
       "      <td>2012</td>\n",
       "      <td>87000</td>\n",
       "      <td>Diesel</td>\n",
       "      <td>Manual</td>\n",
       "      <td>First</td>\n",
       "      <td>20.77 kmpl</td>\n",
       "      <td>1248 CC</td>\n",
       "      <td>88.76 bhp</td>\n",
       "      <td>7.0</td>\n",
       "      <td>NaN</td>\n",
       "      <td>6.00</td>\n",
       "    </tr>\n",
       "    <tr>\n",
       "      <th>4</th>\n",
       "      <td>Audi A4 New 2.0 TDI Multitronic</td>\n",
       "      <td>Coimbatore</td>\n",
       "      <td>2013</td>\n",
       "      <td>40670</td>\n",
       "      <td>Diesel</td>\n",
       "      <td>Automatic</td>\n",
       "      <td>Second</td>\n",
       "      <td>15.2 kmpl</td>\n",
       "      <td>1968 CC</td>\n",
       "      <td>140.8 bhp</td>\n",
       "      <td>5.0</td>\n",
       "      <td>NaN</td>\n",
       "      <td>17.74</td>\n",
       "    </tr>\n",
       "  </tbody>\n",
       "</table>\n",
       "</div>"
      ],
      "text/plain": [
       "                               Name    Location  Year  Kilometers_Driven  \\\n",
       "0            Maruti Wagon R LXI CNG      Mumbai  2010              72000   \n",
       "1  Hyundai Creta 1.6 CRDi SX Option        Pune  2015              41000   \n",
       "2                      Honda Jazz V     Chennai  2011              46000   \n",
       "3                 Maruti Ertiga VDI     Chennai  2012              87000   \n",
       "4   Audi A4 New 2.0 TDI Multitronic  Coimbatore  2013              40670   \n",
       "\n",
       "  Fuel_Type Transmission Owner_Type     Mileage   Engine      Power  Seats  \\\n",
       "0       CNG       Manual      First  26.6 km/kg   998 CC  58.16 bhp    5.0   \n",
       "1    Diesel       Manual      First  19.67 kmpl  1582 CC  126.2 bhp    5.0   \n",
       "2    Petrol       Manual      First   18.2 kmpl  1199 CC   88.7 bhp    5.0   \n",
       "3    Diesel       Manual      First  20.77 kmpl  1248 CC  88.76 bhp    7.0   \n",
       "4    Diesel    Automatic     Second   15.2 kmpl  1968 CC  140.8 bhp    5.0   \n",
       "\n",
       "   New_Price  Price  \n",
       "0        NaN   1.75  \n",
       "1        NaN  12.50  \n",
       "2  8.61 Lakh   4.50  \n",
       "3        NaN   6.00  \n",
       "4        NaN  17.74  "
      ]
     },
     "execution_count": 9,
     "metadata": {},
     "output_type": "execute_result"
    }
   ],
   "source": [
    "df.head()"
   ]
  },
  {
   "cell_type": "code",
   "execution_count": 10,
   "id": "bdbe2aa2",
   "metadata": {},
   "outputs": [
    {
     "data": {
      "text/plain": [
       "Name            1876\n",
       "Location          11\n",
       "Fuel_Type          5\n",
       "Transmission       2\n",
       "Owner_Type         4\n",
       "Mileage          442\n",
       "Engine           146\n",
       "Power            372\n",
       "New_Price        540\n",
       "dtype: int64"
      ]
     },
     "execution_count": 10,
     "metadata": {},
     "output_type": "execute_result"
    }
   ],
   "source": [
    "df.select_dtypes(exclude=nump.number).nunique()"
   ]
  },
  {
   "cell_type": "code",
   "execution_count": 11,
   "id": "11d24699",
   "metadata": {},
   "outputs": [],
   "source": [
    "df.drop(\"Name\",axis=1,inplace=True) #NAME coloumn is Dropped"
   ]
  },
  {
   "cell_type": "code",
   "execution_count": 12,
   "id": "290d0c49",
   "metadata": {},
   "outputs": [
    {
     "data": {
      "text/plain": [
       "Location              0.000000\n",
       "Year                  0.000000\n",
       "Kilometers_Driven     0.000000\n",
       "Fuel_Type             0.000000\n",
       "Transmission          0.000000\n",
       "Owner_Type            0.000000\n",
       "Mileage               0.033228\n",
       "Engine                0.598106\n",
       "Power                 0.598106\n",
       "Seats                 0.697790\n",
       "New_Price            86.310018\n",
       "Price                 0.000000\n",
       "dtype: float64"
      ]
     },
     "execution_count": 12,
     "metadata": {},
     "output_type": "execute_result"
    }
   ],
   "source": [
    "(df.isnull().sum() / len(df)) * 100"
   ]
  },
  {
   "cell_type": "code",
   "execution_count": 13,
   "id": "3b2d2374",
   "metadata": {},
   "outputs": [],
   "source": [
    "df.drop(\"New_Price\",axis=1,inplace=True)"
   ]
  },
  {
   "cell_type": "code",
   "execution_count": 14,
   "id": "cb7b5277",
   "metadata": {},
   "outputs": [],
   "source": [
    "for i in [\"Mileage\",\"Engine\",\"Power\"]:\n",
    "    df[i].replace({nump.nan:\"nan nan\"},inplace=True)"
   ]
  },
  {
   "cell_type": "code",
   "execution_count": 15,
   "id": "b0e3d670",
   "metadata": {},
   "outputs": [
    {
     "data": {
      "text/html": [
       "<div>\n",
       "<style scoped>\n",
       "    .dataframe tbody tr th:only-of-type {\n",
       "        vertical-align: middle;\n",
       "    }\n",
       "\n",
       "    .dataframe tbody tr th {\n",
       "        vertical-align: top;\n",
       "    }\n",
       "\n",
       "    .dataframe thead th {\n",
       "        text-align: right;\n",
       "    }\n",
       "</style>\n",
       "<table border=\"1\" class=\"dataframe\">\n",
       "  <thead>\n",
       "    <tr style=\"text-align: right;\">\n",
       "      <th></th>\n",
       "      <th>Location</th>\n",
       "      <th>Year</th>\n",
       "      <th>Kilometers_Driven</th>\n",
       "      <th>Fuel_Type</th>\n",
       "      <th>Transmission</th>\n",
       "      <th>Owner_Type</th>\n",
       "      <th>Mileage</th>\n",
       "      <th>Engine</th>\n",
       "      <th>Power</th>\n",
       "      <th>Seats</th>\n",
       "      <th>Price</th>\n",
       "    </tr>\n",
       "  </thead>\n",
       "  <tbody>\n",
       "    <tr>\n",
       "      <th>0</th>\n",
       "      <td>Mumbai</td>\n",
       "      <td>2010</td>\n",
       "      <td>72000</td>\n",
       "      <td>CNG</td>\n",
       "      <td>Manual</td>\n",
       "      <td>First</td>\n",
       "      <td>26.6 km/kg</td>\n",
       "      <td>998 CC</td>\n",
       "      <td>58.16 bhp</td>\n",
       "      <td>5.0</td>\n",
       "      <td>1.75</td>\n",
       "    </tr>\n",
       "    <tr>\n",
       "      <th>1</th>\n",
       "      <td>Pune</td>\n",
       "      <td>2015</td>\n",
       "      <td>41000</td>\n",
       "      <td>Diesel</td>\n",
       "      <td>Manual</td>\n",
       "      <td>First</td>\n",
       "      <td>19.67 kmpl</td>\n",
       "      <td>1582 CC</td>\n",
       "      <td>126.2 bhp</td>\n",
       "      <td>5.0</td>\n",
       "      <td>12.50</td>\n",
       "    </tr>\n",
       "    <tr>\n",
       "      <th>2</th>\n",
       "      <td>Chennai</td>\n",
       "      <td>2011</td>\n",
       "      <td>46000</td>\n",
       "      <td>Petrol</td>\n",
       "      <td>Manual</td>\n",
       "      <td>First</td>\n",
       "      <td>18.2 kmpl</td>\n",
       "      <td>1199 CC</td>\n",
       "      <td>88.7 bhp</td>\n",
       "      <td>5.0</td>\n",
       "      <td>4.50</td>\n",
       "    </tr>\n",
       "    <tr>\n",
       "      <th>3</th>\n",
       "      <td>Chennai</td>\n",
       "      <td>2012</td>\n",
       "      <td>87000</td>\n",
       "      <td>Diesel</td>\n",
       "      <td>Manual</td>\n",
       "      <td>First</td>\n",
       "      <td>20.77 kmpl</td>\n",
       "      <td>1248 CC</td>\n",
       "      <td>88.76 bhp</td>\n",
       "      <td>7.0</td>\n",
       "      <td>6.00</td>\n",
       "    </tr>\n",
       "    <tr>\n",
       "      <th>4</th>\n",
       "      <td>Coimbatore</td>\n",
       "      <td>2013</td>\n",
       "      <td>40670</td>\n",
       "      <td>Diesel</td>\n",
       "      <td>Automatic</td>\n",
       "      <td>Second</td>\n",
       "      <td>15.2 kmpl</td>\n",
       "      <td>1968 CC</td>\n",
       "      <td>140.8 bhp</td>\n",
       "      <td>5.0</td>\n",
       "      <td>17.74</td>\n",
       "    </tr>\n",
       "  </tbody>\n",
       "</table>\n",
       "</div>"
      ],
      "text/plain": [
       "     Location  Year  Kilometers_Driven Fuel_Type Transmission Owner_Type  \\\n",
       "0      Mumbai  2010              72000       CNG       Manual      First   \n",
       "1        Pune  2015              41000    Diesel       Manual      First   \n",
       "2     Chennai  2011              46000    Petrol       Manual      First   \n",
       "3     Chennai  2012              87000    Diesel       Manual      First   \n",
       "4  Coimbatore  2013              40670    Diesel    Automatic     Second   \n",
       "\n",
       "      Mileage   Engine      Power  Seats  Price  \n",
       "0  26.6 km/kg   998 CC  58.16 bhp    5.0   1.75  \n",
       "1  19.67 kmpl  1582 CC  126.2 bhp    5.0  12.50  \n",
       "2   18.2 kmpl  1199 CC   88.7 bhp    5.0   4.50  \n",
       "3  20.77 kmpl  1248 CC  88.76 bhp    7.0   6.00  \n",
       "4   15.2 kmpl  1968 CC  140.8 bhp    5.0  17.74  "
      ]
     },
     "execution_count": 15,
     "metadata": {},
     "output_type": "execute_result"
    }
   ],
   "source": [
    "df.head()"
   ]
  },
  {
   "cell_type": "code",
   "execution_count": 16,
   "id": "1dbd457c",
   "metadata": {},
   "outputs": [],
   "source": [
    "for i in [\"Mileage\",\"Engine\",\"Power\"]:\n",
    "    df[i] = df[i].apply(lambda x:x.split()[0])"
   ]
  },
  {
   "cell_type": "code",
   "execution_count": 17,
   "id": "db86a57a",
   "metadata": {},
   "outputs": [],
   "source": [
    "for i in [\"Mileage\",\"Engine\",\"Power\"]:\n",
    "    df[i].replace({\"nan\":\"0\"},inplace=True)\n",
    "    df[i].replace({\"null\":\"0\"},inplace=True)"
   ]
  },
  {
   "cell_type": "code",
   "execution_count": 18,
   "id": "3ebe8243",
   "metadata": {},
   "outputs": [],
   "source": [
    "for i in [\"Mileage\",\"Engine\",\"Power\"]:\n",
    "    df[i] = df[i].astype(\"float\")"
   ]
  },
  {
   "cell_type": "code",
   "execution_count": 19,
   "id": "92a2e113",
   "metadata": {},
   "outputs": [],
   "source": [
    "for i in [\"Mileage\",\"Engine\",\"Power\"]:\n",
    "    df[i].replace({0:nump.nan},inplace=True)"
   ]
  },
  {
   "cell_type": "code",
   "execution_count": 20,
   "id": "7f6d5e2f",
   "metadata": {},
   "outputs": [
    {
     "data": {
      "text/plain": [
       "Location             0.000000\n",
       "Year                 0.000000\n",
       "Kilometers_Driven    0.000000\n",
       "Fuel_Type            0.000000\n",
       "Transmission         0.000000\n",
       "Owner_Type           0.000000\n",
       "Mileage              1.162984\n",
       "Engine               0.598106\n",
       "Power                2.375810\n",
       "Seats                0.697790\n",
       "Price                0.000000\n",
       "dtype: float64"
      ]
     },
     "execution_count": 20,
     "metadata": {},
     "output_type": "execute_result"
    }
   ],
   "source": [
    "df.isnull().sum() / len(df)*100"
   ]
  },
  {
   "cell_type": "code",
   "execution_count": 21,
   "id": "d06025d7",
   "metadata": {},
   "outputs": [],
   "source": [
    "for i in [\"Mileage\",\"Engine\",\"Power\",\"Seats\"]:\n",
    "    df[i].fillna(df[i].median(),inplace=True)   # filling the null values with the median of the column"
   ]
  },
  {
   "cell_type": "code",
   "execution_count": 22,
   "id": "3ec03ca1",
   "metadata": {},
   "outputs": [
    {
     "data": {
      "text/plain": [
       "Location             0.0\n",
       "Year                 0.0\n",
       "Kilometers_Driven    0.0\n",
       "Fuel_Type            0.0\n",
       "Transmission         0.0\n",
       "Owner_Type           0.0\n",
       "Mileage              0.0\n",
       "Engine               0.0\n",
       "Power                0.0\n",
       "Seats                0.0\n",
       "Price                0.0\n",
       "dtype: float64"
      ]
     },
     "execution_count": 22,
     "metadata": {},
     "output_type": "execute_result"
    }
   ],
   "source": [
    "(df.isnull().sum() / len(df)) * 100"
   ]
  },
  {
   "cell_type": "code",
   "execution_count": 23,
   "id": "cab2cd0a",
   "metadata": {},
   "outputs": [
    {
     "data": {
      "text/plain": [
       "<Axes: ylabel='Price'>"
      ]
     },
     "execution_count": 23,
     "metadata": {},
     "output_type": "execute_result"
    },
    {
     "data": {
      "image/png": "[encoded data removed]",
      "text/plain": [
       "<Figure size 640x480 with 1 Axes>"
      ]
     },
     "metadata": {},
     "output_type": "display_data"
    }
   ],
   "source": [
    "sea.boxplot(df.Price)"
   ]
  },
  {
   "cell_type": "code",
   "execution_count": 24,
   "id": "4cd5d926",
   "metadata": {},
   "outputs": [
    {
     "data": {
      "text/plain": [
       "Location        11\n",
       "Fuel_Type        5\n",
       "Transmission     2\n",
       "Owner_Type       4\n",
       "dtype: int64"
      ]
     },
     "execution_count": 24,
     "metadata": {},
     "output_type": "execute_result"
    }
   ],
   "source": [
    "df.select_dtypes(exclude=nump.number).nunique()"
   ]
  },
  {
   "cell_type": "code",
   "execution_count": 25,
   "id": "06db21ec",
   "metadata": {},
   "outputs": [
    {
     "name": "stdout",
     "output_type": "stream",
     "text": [
      "Fuel_Type - % of df\n",
      "Fuel_Type\n",
      "Diesel      0.532480\n",
      "Petrol      0.456222\n",
      "CNG         0.009304\n",
      "LPG         0.001661\n",
      "Electric    0.000332\n",
      "Name: proportion, dtype: float64\n",
      "\n",
      "Transmission - % of df\n",
      "Transmission\n",
      "Manual       0.714238\n",
      "Automatic    0.285762\n",
      "Name: proportion, dtype: float64\n",
      "\n"
     ]
    }
   ],
   "source": [
    "for i in df.select_dtypes(exclude=nump.number).columns[1:-1]:\n",
    "    print(i,\"- % of df\")\n",
    "    print(df[i].value_counts(normalize=True))\n",
    "    print()"
   ]
  },
  {
   "cell_type": "code",
   "execution_count": 26,
   "id": "495e831b",
   "metadata": {},
   "outputs": [
    {
     "data": {
      "text/plain": [
       "Seats\n",
       "2.0     55.211875\n",
       "4.0     20.752525\n",
       "7.0     14.837463\n",
       "6.0      9.511290\n",
       "5.0      8.461438\n",
       "8.0      7.458881\n",
       "9.0      4.450000\n",
       "10.0     4.280000\n",
       "Name: Price, dtype: float64"
      ]
     },
     "execution_count": 26,
     "metadata": {},
     "output_type": "execute_result"
    }
   ],
   "source": [
    "df.groupby(\"Seats\")[\"Price\"].mean().sort_values(ascending=False)#GROUPBY is used and COlumn is sorted in descending order "
   ]
  },
  {
   "cell_type": "code",
   "execution_count": 27,
   "id": "7a947642",
   "metadata": {},
   "outputs": [
    {
     "data": {
      "text/plain": [
       "Seats\n",
       "2.0     54.500\n",
       "4.0      6.300\n",
       "5.0      5.200\n",
       "6.0      6.500\n",
       "7.0     10.750\n",
       "8.0      6.295\n",
       "9.0      4.500\n",
       "10.0     3.650\n",
       "Name: Price, dtype: float64"
      ]
     },
     "execution_count": 27,
     "metadata": {},
     "output_type": "execute_result"
    }
   ],
   "source": [
    "df.groupby(\"Seats\")[\"Price\"].median()"
   ]
  },
  {
   "cell_type": "code",
   "execution_count": 28,
   "id": "8a255a69",
   "metadata": {},
   "outputs": [
    {
     "data": {
      "text/html": [
       "<div>\n",
       "<style scoped>\n",
       "    .dataframe tbody tr th:only-of-type {\n",
       "        vertical-align: middle;\n",
       "    }\n",
       "\n",
       "    .dataframe tbody tr th {\n",
       "        vertical-align: top;\n",
       "    }\n",
       "\n",
       "    .dataframe thead th {\n",
       "        text-align: right;\n",
       "    }\n",
       "</style>\n",
       "<table border=\"1\" class=\"dataframe\">\n",
       "  <thead>\n",
       "    <tr style=\"text-align: right;\">\n",
       "      <th></th>\n",
       "      <th>Location</th>\n",
       "      <th>Year</th>\n",
       "      <th>Fuel_Type</th>\n",
       "      <th>Transmission</th>\n",
       "      <th>Owner_Type</th>\n",
       "      <th>Mileage</th>\n",
       "      <th>Engine</th>\n",
       "      <th>Power</th>\n",
       "      <th>Seats</th>\n",
       "      <th>Price</th>\n",
       "    </tr>\n",
       "  </thead>\n",
       "  <tbody>\n",
       "    <tr>\n",
       "      <th>0</th>\n",
       "      <td>Mumbai</td>\n",
       "      <td>2010</td>\n",
       "      <td>CNG</td>\n",
       "      <td>Manual</td>\n",
       "      <td>First</td>\n",
       "      <td>26.60</td>\n",
       "      <td>998.0</td>\n",
       "      <td>58.16</td>\n",
       "      <td>5.0</td>\n",
       "      <td>1.75</td>\n",
       "    </tr>\n",
       "    <tr>\n",
       "      <th>1</th>\n",
       "      <td>Pune</td>\n",
       "      <td>2015</td>\n",
       "      <td>Diesel</td>\n",
       "      <td>Manual</td>\n",
       "      <td>First</td>\n",
       "      <td>19.67</td>\n",
       "      <td>1582.0</td>\n",
       "      <td>126.20</td>\n",
       "      <td>5.0</td>\n",
       "      <td>12.50</td>\n",
       "    </tr>\n",
       "    <tr>\n",
       "      <th>2</th>\n",
       "      <td>Chennai</td>\n",
       "      <td>2011</td>\n",
       "      <td>Petrol</td>\n",
       "      <td>Manual</td>\n",
       "      <td>First</td>\n",
       "      <td>18.20</td>\n",
       "      <td>1199.0</td>\n",
       "      <td>88.70</td>\n",
       "      <td>5.0</td>\n",
       "      <td>4.50</td>\n",
       "    </tr>\n",
       "    <tr>\n",
       "      <th>3</th>\n",
       "      <td>Chennai</td>\n",
       "      <td>2012</td>\n",
       "      <td>Diesel</td>\n",
       "      <td>Manual</td>\n",
       "      <td>First</td>\n",
       "      <td>20.77</td>\n",
       "      <td>1248.0</td>\n",
       "      <td>88.76</td>\n",
       "      <td>7.0</td>\n",
       "      <td>6.00</td>\n",
       "    </tr>\n",
       "    <tr>\n",
       "      <th>4</th>\n",
       "      <td>Coimbatore</td>\n",
       "      <td>2013</td>\n",
       "      <td>Diesel</td>\n",
       "      <td>Automatic</td>\n",
       "      <td>Second</td>\n",
       "      <td>15.20</td>\n",
       "      <td>1968.0</td>\n",
       "      <td>140.80</td>\n",
       "      <td>5.0</td>\n",
       "      <td>17.74</td>\n",
       "    </tr>\n",
       "  </tbody>\n",
       "</table>\n",
       "</div>"
      ],
      "text/plain": [
       "     Location  Year Fuel_Type Transmission Owner_Type  Mileage  Engine  \\\n",
       "0      Mumbai  2010       CNG       Manual      First    26.60   998.0   \n",
       "1        Pune  2015    Diesel       Manual      First    19.67  1582.0   \n",
       "2     Chennai  2011    Petrol       Manual      First    18.20  1199.0   \n",
       "3     Chennai  2012    Diesel       Manual      First    20.77  1248.0   \n",
       "4  Coimbatore  2013    Diesel    Automatic     Second    15.20  1968.0   \n",
       "\n",
       "    Power  Seats  Price  \n",
       "0   58.16    5.0   1.75  \n",
       "1  126.20    5.0  12.50  \n",
       "2   88.70    5.0   4.50  \n",
       "3   88.76    7.0   6.00  \n",
       "4  140.80    5.0  17.74  "
      ]
     },
     "execution_count": 28,
     "metadata": {},
     "output_type": "execute_result"
    }
   ],
   "source": [
    "data1 = df.copy()\n",
    "df.drop(\"Kilometers_Driven\",axis=1,inplace=True)\n",
    "data1 = df.copy()\n",
    "df.head()"
   ]
  },
  {
   "cell_type": "code",
   "execution_count": 29,
   "id": "d8f28a3f",
   "metadata": {},
   "outputs": [
    {
     "name": "stdout",
     "output_type": "stream",
     "text": [
      "        Location  Year  Fuel_Type  Transmission Owner_Type  Mileage  Engine  \\\n",
      "0         Mumbai  2010          0             1      First    26.60   998.0   \n",
      "1           Pune  2015          1             1      First    19.67  1582.0   \n",
      "2        Chennai  2011          4             1      First    18.20  1199.0   \n",
      "3        Chennai  2012          1             1      First    20.77  1248.0   \n",
      "4     Coimbatore  2013          1             0     Second    15.20  1968.0   \n",
      "...          ...   ...        ...           ...        ...      ...     ...   \n",
      "6014       Delhi  2014          1             1      First    28.40  1248.0   \n",
      "6015      Jaipur  2015          1             1      First    24.40  1120.0   \n",
      "6016      Jaipur  2012          1             1     Second    14.00  2498.0   \n",
      "6017     Kolkata  2013          4             1      First    18.90   998.0   \n",
      "6018   Hyderabad  2011          1             1      First    25.44   936.0   \n",
      "\n",
      "       Power  Seats  Price  \n",
      "0      58.16    5.0   1.75  \n",
      "1     126.20    5.0  12.50  \n",
      "2      88.70    5.0   4.50  \n",
      "3      88.76    7.0   6.00  \n",
      "4     140.80    5.0  17.74  \n",
      "...      ...    ...    ...  \n",
      "6014   74.00    5.0   4.75  \n",
      "6015   71.00    5.0   4.00  \n",
      "6016  112.00    8.0   2.90  \n",
      "6017   67.10    5.0   2.65  \n",
      "6018   57.60    5.0   2.50  \n",
      "\n",
      "[6019 rows x 10 columns]\n"
     ]
    }
   ],
   "source": [
    "from sklearn.preprocessing import LabelEncoder #HERE IMPORTNG lABel ancoder\n",
    "lbb_e = LabelEncoder()\n",
    "df['Fuel_Type'] = lbb_e.fit_transform(df['Fuel_Type']) #converting categorical into numerical data\n",
    "df['Transmission'] = lbb_e.fit_transform(df['Transmission']) \n",
    "\n",
    "print(df)\n"
   ]
  },
  {
   "cell_type": "code",
   "execution_count": 30,
   "id": "0f2db776",
   "metadata": {
    "scrolled": true
   },
   "outputs": [
    {
     "data": {
      "text/plain": [
       "array(['First', 'Second', 'Fourth & Above', 'Third'], dtype=object)"
      ]
     },
     "execution_count": 30,
     "metadata": {},
     "output_type": "execute_result"
    }
   ],
   "source": [
    "df.Owner_Type.unique()"
   ]
  },
  {
   "cell_type": "code",
   "execution_count": 31,
   "id": "7b818e47",
   "metadata": {},
   "outputs": [],
   "source": [
    "for i in df.index:\n",
    "    if df.loc[i,\"Owner_Type\"] == \"First\": #providing index to FIRST\n",
    "        df.loc[i,\"Owner_Type\"] = 1         #Provided Index is 1\n",
    "    if df.loc[i,\"Owner_Type\"] == \"Second\": #providing index to SECOND\n",
    "        df.loc[i,\"Owner_Type\"] = 2         #Provided Index is 2\n",
    "    if df.loc[i,\"Owner_Type\"] == \"Third\": #providing index to THIRD\n",
    "        df.loc[i,\"Owner_Type\"] = 3         #Provided Index is 3\n",
    "    if df.loc[i,\"Owner_Type\"] == \"Fourth & Above\": #providing index to FOURTH AND ABOVE\n",
    "        df.loc[i,\"Owner_Type\"] = 4          #Provided Index is 4"
   ]
  },
  {
   "cell_type": "code",
   "execution_count": 32,
   "id": "83b1e4ed",
   "metadata": {},
   "outputs": [],
   "source": [
    "df.Owner_Type = df.Owner_Type.astype(\"int64\")"
   ]
  },
  {
   "cell_type": "code",
   "execution_count": 33,
   "id": "b3e4e9e9",
   "metadata": {},
   "outputs": [],
   "source": [
    "df.Location = df.Location.map(df.groupby(\"Location\")[\"Price\"].median())"
   ]
  },
  {
   "cell_type": "code",
   "execution_count": 34,
   "id": "b24d9968",
   "metadata": {},
   "outputs": [
    {
     "data": {
      "text/html": [
       "<div>\n",
       "<style scoped>\n",
       "    .dataframe tbody tr th:only-of-type {\n",
       "        vertical-align: middle;\n",
       "    }\n",
       "\n",
       "    .dataframe tbody tr th {\n",
       "        vertical-align: top;\n",
       "    }\n",
       "\n",
       "    .dataframe thead th {\n",
       "        text-align: right;\n",
       "    }\n",
       "</style>\n",
       "<table border=\"1\" class=\"dataframe\">\n",
       "  <thead>\n",
       "    <tr style=\"text-align: right;\">\n",
       "      <th></th>\n",
       "      <th>Location</th>\n",
       "      <th>Year</th>\n",
       "      <th>Fuel_Type</th>\n",
       "      <th>Transmission</th>\n",
       "      <th>Owner_Type</th>\n",
       "      <th>Mileage</th>\n",
       "      <th>Engine</th>\n",
       "      <th>Power</th>\n",
       "      <th>Seats</th>\n",
       "      <th>Price</th>\n",
       "    </tr>\n",
       "  </thead>\n",
       "  <tbody>\n",
       "    <tr>\n",
       "      <th>0</th>\n",
       "      <td>5.750</td>\n",
       "      <td>2010</td>\n",
       "      <td>0</td>\n",
       "      <td>1</td>\n",
       "      <td>1</td>\n",
       "      <td>26.60</td>\n",
       "      <td>998.0</td>\n",
       "      <td>58.16</td>\n",
       "      <td>5.0</td>\n",
       "      <td>1.75</td>\n",
       "    </tr>\n",
       "    <tr>\n",
       "      <th>1</th>\n",
       "      <td>4.250</td>\n",
       "      <td>2015</td>\n",
       "      <td>1</td>\n",
       "      <td>1</td>\n",
       "      <td>1</td>\n",
       "      <td>19.67</td>\n",
       "      <td>1582.0</td>\n",
       "      <td>126.20</td>\n",
       "      <td>5.0</td>\n",
       "      <td>12.50</td>\n",
       "    </tr>\n",
       "    <tr>\n",
       "      <th>2</th>\n",
       "      <td>4.500</td>\n",
       "      <td>2011</td>\n",
       "      <td>4</td>\n",
       "      <td>1</td>\n",
       "      <td>1</td>\n",
       "      <td>18.20</td>\n",
       "      <td>1199.0</td>\n",
       "      <td>88.70</td>\n",
       "      <td>5.0</td>\n",
       "      <td>4.50</td>\n",
       "    </tr>\n",
       "    <tr>\n",
       "      <th>3</th>\n",
       "      <td>4.500</td>\n",
       "      <td>2012</td>\n",
       "      <td>1</td>\n",
       "      <td>1</td>\n",
       "      <td>1</td>\n",
       "      <td>20.77</td>\n",
       "      <td>1248.0</td>\n",
       "      <td>88.76</td>\n",
       "      <td>7.0</td>\n",
       "      <td>6.00</td>\n",
       "    </tr>\n",
       "    <tr>\n",
       "      <th>4</th>\n",
       "      <td>8.305</td>\n",
       "      <td>2013</td>\n",
       "      <td>1</td>\n",
       "      <td>0</td>\n",
       "      <td>2</td>\n",
       "      <td>15.20</td>\n",
       "      <td>1968.0</td>\n",
       "      <td>140.80</td>\n",
       "      <td>5.0</td>\n",
       "      <td>17.74</td>\n",
       "    </tr>\n",
       "  </tbody>\n",
       "</table>\n",
       "</div>"
      ],
      "text/plain": [
       "   Location  Year  Fuel_Type  Transmission  Owner_Type  Mileage  Engine  \\\n",
       "0     5.750  2010          0             1           1    26.60   998.0   \n",
       "1     4.250  2015          1             1           1    19.67  1582.0   \n",
       "2     4.500  2011          4             1           1    18.20  1199.0   \n",
       "3     4.500  2012          1             1           1    20.77  1248.0   \n",
       "4     8.305  2013          1             0           2    15.20  1968.0   \n",
       "\n",
       "    Power  Seats  Price  \n",
       "0   58.16    5.0   1.75  \n",
       "1  126.20    5.0  12.50  \n",
       "2   88.70    5.0   4.50  \n",
       "3   88.76    7.0   6.00  \n",
       "4  140.80    5.0  17.74  "
      ]
     },
     "execution_count": 34,
     "metadata": {},
     "output_type": "execute_result"
    }
   ],
   "source": [
    "df.head()"
   ]
  },
  {
   "cell_type": "code",
   "execution_count": 35,
   "id": "94447ba6",
   "metadata": {},
   "outputs": [],
   "source": [
    "X = df.drop(\"Price\",axis=1)  # creating a INdependent variable containing all the attributes except price\n",
    "Y = df.Price         # creating dependent variable containing only the price column"
   ]
  },
  {
   "cell_type": "markdown",
   "id": "d4785d95",
   "metadata": {},
   "source": [
    "# Training & Testing (0.25)"
   ]
  },
  {
   "cell_type": "code",
   "execution_count": 36,
   "id": "819f01dc",
   "metadata": {},
   "outputs": [],
   "source": [
    "X_t,X_tst,y_t,y_tst = train_test_split(X,Y,test_size=0.25,random_state=18) # dividing the data into 75%  train part and rest test part"
   ]
  },
  {
   "cell_type": "code",
   "execution_count": 37,
   "id": "6c1a3b14",
   "metadata": {},
   "outputs": [],
   "source": [
    "knn = KNeighborsRegressor().fit(X_t,y_t) # fit is used to train\n",
    "knn_tst_pre = knn.predict(X_tst)   #for The prediction of test data\n",
    "r2 = r2_score(y_tst,knn_tst_pre)    #calculating R2SCORe\n",
    "\n",
    "avge=mean_squared_error(y_tst,knn_tst_pre)  #calcUlate avverage of the squares of error\n",
    "ravgae = nump.sqrt(mean_squared_error(y_tst,knn_tst_pre)) #calcUlate square root of average of squares of error\n",
    "avgae = mean_absolute_error(y_tst,knn_tst_pre)  #calcUlate average of absolute error\n",
    "\n"
   ]
  },
  {
   "cell_type": "code",
   "execution_count": 38,
   "id": "c21d0219",
   "metadata": {},
   "outputs": [
    {
     "name": "stdout",
     "output_type": "stream",
     "text": [
      "TEST R2 SCORE : 0.8334731886360316\n",
      "TEST avgae SCORE : 20.198593533554817\n",
      "TEST Ravgae SCORE : 4.494284540786755\n",
      " TEST avgae SCORE : 1.9590073089700994\n"
     ]
    }
   ],
   "source": [
    "print(\"TEST R2 SCORE :\",r2);\n",
    "print(\"TEST avgae SCORE :\",avge);\n",
    "print(\"TEST Ravgae SCORE :\",ravgae);\n",
    "print(\" TEST avgae SCORE :\",avgae);"
   ]
  },
  {
   "cell_type": "markdown",
   "id": "d60d4902",
   "metadata": {},
   "source": [
    "# Training & Testing (0.20)"
   ]
  },
  {
   "cell_type": "code",
   "execution_count": 39,
   "id": "fb77d3bd",
   "metadata": {},
   "outputs": [],
   "source": [
    "X_t,X_tst,y_t,y_tst = train_test_split(X,Y,test_size=0.20,random_state=16) # dividing the data into 80%  train part and rest test part"
   ]
  },
  {
   "cell_type": "code",
   "execution_count": 40,
   "id": "8a074a81",
   "metadata": {},
   "outputs": [],
   "source": [
    "knn = KNeighborsRegressor().fit(X_t,y_t)  #training\n",
    "knn_t_pre = knn.predict(X_t)   # making predictions on train data\n",
    "knn_tst_pre = knn.predict(X_tst)     # making predictions on test data\n",
    "r2 = r2_score(y_tst,knn_tst_pre)\n",
    "r2_train = r2_score(y_t,knn_t_pre)    #calculating R2SCORe\n",
    "avge=mean_squared_error(y_tst,knn_tst_pre)    #calcUlate avverage of the squares of error\n",
    "ravgae = nump.sqrt(mean_squared_error(y_tst,knn_tst_pre)) #calcUlate square root of avverage of the squares of error\n",
    "avgae = mean_absolute_error(y_tst,knn_tst_pre)   #calcUlate avverage of the squares of absolute error\n"
   ]
  },
  {
   "cell_type": "code",
   "execution_count": 41,
   "id": "3760ba64",
   "metadata": {},
   "outputs": [
    {
     "name": "stdout",
     "output_type": "stream",
     "text": [
      "TEST R2 SCORE : 0.8406138998369084\n",
      "TEST avgae SCORE : 22.084568116279073\n",
      "TEST Ravgae SCORE : 4.6994221045016875\n",
      "TEST avgae SCORE : 2.0065930232558142\n"
     ]
    }
   ],
   "source": [
    "print(\"TEST R2 SCORE :\",r2)\n",
    "print(\"TEST avgae SCORE :\",avge)\n",
    "print(\"TEST Ravgae SCORE :\",ravgae)\n",
    "print(\"TEST avgae SCORE :\",avgae)"
   ]
  },
  {
   "cell_type": "markdown",
   "id": "0533ab21",
   "metadata": {},
   "source": [
    "# Training & Testing (0.15)"
   ]
  },
  {
   "cell_type": "code",
   "execution_count": 42,
   "id": "71113ac8",
   "metadata": {},
   "outputs": [],
   "source": [
    "X_t,X_tst,y_t,y_tst = train_test_split(X,Y,test_size=0.15,random_state=18) # dividing the data into 85%  train part and rest test part"
   ]
  },
  {
   "cell_type": "code",
   "execution_count": 43,
   "id": "0069587a",
   "metadata": {},
   "outputs": [],
   "source": [
    "knn = KNeighborsRegressor().fit(X_t,y_t)  #training\n",
    "knn_t_pre = knn.predict(X_t)    # making prediction of train data\n",
    "knn_tst_pre = knn.predict(X_tst)      #making prediction of test data\n",
    "r2 = r2_score(y_tst,knn_tst_pre)        #calculating R2SCORe\n",
    "r2_train = r2_score(y_t,knn_t_pre)\n",
    "avge=mean_squared_error(y_tst,knn_tst_pre)   #calcUlate avverage of the squares of error\n",
    "ravgae = nump.sqrt(mean_squared_error(y_tst,knn_tst_pre))   #calcUlate square root of avverage of the squares of error\n",
    "avgae = mean_absolute_error(y_tst,knn_tst_pre)      #calcUlate avverage of the squares of absolute error"
   ]
  },
  {
   "cell_type": "code",
   "execution_count": 44,
   "id": "3ecabda9",
   "metadata": {},
   "outputs": [
    {
     "name": "stdout",
     "output_type": "stream",
     "text": [
      "TEST R2 SCORE USING KNN 0.8552603575218423\n",
      "TEST avgae SCORE USING KNN: 18.04402503211517\n",
      "TEST Ravgae SCORE USING KNN: 4.247825918292223\n",
      "TEST avgae SCORE USING KNN: 1.9093045404208193\n"
     ]
    }
   ],
   "source": [
    "#TEST DATA\n",
    "print(\"TEST R2 SCORE USING KNN\",r2)\n",
    "print(\"TEST avgae SCORE USING KNN:\",avge)\n",
    "print(\"TEST Ravgae SCORE USING KNN:\",ravgae)\n",
    "print(\"TEST avgae SCORE USING KNN:\",avgae)"
   ]
  },
  {
   "cell_type": "markdown",
   "id": "36c7e999",
   "metadata": {},
   "source": [
    "# TRAINING"
   ]
  },
  {
   "cell_type": "code",
   "execution_count": 45,
   "id": "f6f59366",
   "metadata": {},
   "outputs": [],
   "source": [
    "X_t,X_tst,y_t,y_tst = train_test_split(X,Y,test_size=0.25,random_state=18) # dividing the data into 75%  train part and rest test part"
   ]
  },
  {
   "cell_type": "code",
   "execution_count": 46,
   "id": "91ed805a",
   "metadata": {},
   "outputs": [],
   "source": [
    "knn_t_pre = knn.predict(X_t)    #for The prediction of train the data\n",
    "r2_train = r2_score(y_t,knn_t_pre)    #calculating R2SCORe\n",
    "avge=mean_squared_error(y_t,knn_t_pre)   #calcUlate avverage of the squares of error\n",
    "ravgae = nump.sqrt(mean_squared_error(y_t,knn_t_pre)) #calcUlate square root of avverage of the squares of error\n",
    "avgae = mean_absolute_error(y_t,knn_t_pre)   #calcUlate avverage of the squares of absolute error"
   ]
  },
  {
   "cell_type": "code",
   "execution_count": 47,
   "id": "237f04bd",
   "metadata": {},
   "outputs": [
    {
     "name": "stdout",
     "output_type": "stream",
     "text": [
      "TRAIN R2 SCORE USING KNN: 0.9020450830362835\n",
      "TRAIN avgae SCORE USING KNN: 12.380623135135135\n",
      "TRAIN Ravgae SCORE USING KNN: 3.5186109667218304\n",
      "TRAIN avgae SCORE USING KNN: 1.4049065130704477\n"
     ]
    }
   ],
   "source": [
    "print(\"TRAIN R2 SCORE USING KNN:\",r2_train);\n",
    "print(\"TRAIN avgae SCORE USING KNN:\",avge);\n",
    "print(\"TRAIN Ravgae SCORE USING KNN:\",ravgae);\n",
    "print(\"TRAIN avgae SCORE USING KNN:\",avgae);"
   ]
  },
  {
   "cell_type": "code",
   "execution_count": 48,
   "id": "fd50fa97",
   "metadata": {},
   "outputs": [],
   "source": [
    "X_t,X_tst,y_t,y_tst = train_test_split(X,Y,test_size=0.20,random_state=16) # dividing the data into 80%  train part and rest test part"
   ]
  },
  {
   "cell_type": "code",
   "execution_count": 49,
   "id": "958e9140",
   "metadata": {},
   "outputs": [],
   "source": [
    "knn_t_pre = knn.predict(X_t)\n",
    "r2_train = r2_score(y_t,knn_t_pre)    #calculating R2SCORe\n",
    "avge=mean_squared_error(y_t,knn_t_pre)   #calcUlate avverage of the squares of error\n",
    "ravgae = nump.sqrt(mean_squared_error(y_t,knn_t_pre))  #calcUlate square root of avverage of the squares of error\n",
    "avgae = mean_absolute_error(y_t,knn_t_pre)  #calcUlate avverage of the squares of absolute error"
   ]
  },
  {
   "cell_type": "code",
   "execution_count": 50,
   "id": "d67b2466",
   "metadata": {},
   "outputs": [
    {
     "name": "stdout",
     "output_type": "stream",
     "text": [
      "TRAIN R2 SCORE USING KNN: 0.8909241271947834\n",
      "TRAIN avgae SCORE USING KNN: 13.284117084112149\n",
      "TRAIN Ravgae SCORE USING KNN: 3.6447382737464356\n",
      "TRAIN avgae SCORE USING KNN: 1.4639102803738318\n"
     ]
    }
   ],
   "source": [
    "print(\"TRAIN R2 SCORE USING KNN:\",r2_train);\n",
    "print(\"TRAIN avgae SCORE USING KNN:\",avge);\n",
    "print(\"TRAIN Ravgae SCORE USING KNN:\",ravgae);\n",
    "print(\"TRAIN avgae SCORE USING KNN:\",avgae);"
   ]
  },
  {
   "cell_type": "code",
   "execution_count": 51,
   "id": "0cd10cf2",
   "metadata": {},
   "outputs": [],
   "source": [
    "X_t,X_tst,y_t,y_tst = train_test_split(X,Y,test_size=0.15,random_state=18)# dividing the data into 85%  train part and rest test part"
   ]
  },
  {
   "cell_type": "code",
   "execution_count": 52,
   "id": "f84cad5a",
   "metadata": {},
   "outputs": [],
   "source": [
    "knn_t_pre = knn.predict(X_t)\n",
    "r2_train = r2_score(y_t,knn_t_pre)    #calculating R2SCORe\n",
    "avge=mean_squared_error(y_t,knn_t_pre)  #calcUlate avverage of the squares of error\n",
    "ravgae = nump.sqrt(mean_squared_error(y_t,knn_t_pre)) #calcUlate square root of avverage of the squares of error\n",
    "avgae = mean_absolute_error(y_t,knn_t_pre)    #calcUlate avverage of the squares of absolute error"
   ]
  },
  {
   "cell_type": "code",
   "execution_count": 53,
   "id": "097957c0",
   "metadata": {},
   "outputs": [
    {
     "name": "stdout",
     "output_type": "stream",
     "text": [
      "TRAIN R2 SCORE USING KNN: 0.8966261712991226\n",
      "TRAIN avgae SCORE USING KNN: 12.9400212056294\n",
      "TRAIN Ravgae SCORE USING KNN: 3.5972240972212726\n",
      "TRAIN avgae SCORE USING KNN: 1.4160054730258014\n"
     ]
    }
   ],
   "source": [
    "print(\"TRAIN R2 SCORE USING KNN:\",r2_train);\n",
    "print(\"TRAIN avgae SCORE USING KNN:\",avge);\n",
    "print(\"TRAIN Ravgae SCORE USING KNN:\",ravgae);\n",
    "print(\"TRAIN avgae SCORE USING KNN:\",avgae);"
   ]
  },
  {
   "cell_type": "markdown",
   "id": "ef5586d0",
   "metadata": {},
   "source": [
    "# For Cross Validation=10 and k=3"
   ]
  },
  {
   "cell_type": "code",
   "execution_count": 54,
   "id": "f38b89fa",
   "metadata": {},
   "outputs": [
    {
     "name": "stdout",
     "output_type": "stream",
     "text": [
      " Accuracy scr of cross-validation=10 and k=3: [0.85596841 0.76893946 0.8448288  0.82195534 0.91614376 0.78125569\n",
      " 0.79488476 0.8610244  0.8512696  0.81446828]\n"
     ]
    }
   ],
   "source": [
    "# At Fold=10 and testing data =85% we obtain max average accuracy at different k Value\n",
    "X_t,X_tst,y_t,y_tst = train_test_split(X,Y,test_size=0.15,random_state=18) # dividing the data into 85%  train part and rest test part\n",
    "classifier =  KNeighborsRegressor(n_neighbors=3)\n",
    "\n",
    "scr_10 = cross_val_score(classifier, X, Y, cv=10)\n",
    "\n",
    "print(\" Accuracy scr of cross-validation=10 and k=3:\", scr_10)"
   ]
  },
  {
   "cell_type": "code",
   "execution_count": 55,
   "id": "57994536",
   "metadata": {},
   "outputs": [
    {
     "name": "stdout",
     "output_type": "stream",
     "text": [
      "AVERAGE SCORE OF CROSS-VALIDATION=10 AND K=3: 0.8310738485109382\n"
     ]
    }
   ],
   "source": [
    "print(\"AVERAGE SCORE OF CROSS-VALIDATION=10 AND K=3:\",scr_10.mean())"
   ]
  },
  {
   "cell_type": "markdown",
   "id": "ce23da5e",
   "metadata": {},
   "source": [
    "# For Cross Validation=10 and k=4"
   ]
  },
  {
   "cell_type": "code",
   "execution_count": 56,
   "id": "1c70d54a",
   "metadata": {},
   "outputs": [
    {
     "name": "stdout",
     "output_type": "stream",
     "text": [
      " Accuracy scr of cross-validation=10 and k=4: [0.85574747 0.78365493 0.86209139 0.83967908 0.91674976 0.76996416\n",
      " 0.77557822 0.8601543  0.84333821 0.81046981]\n"
     ]
    }
   ],
   "source": [
    "classifier =  KNeighborsRegressor(n_neighbors=4)\n",
    "\n",
    "scr_10 = cross_val_score(classifier, X, Y, cv=10)\n",
    "\n",
    "print(\" Accuracy scr of cross-validation=10 and k=4:\", scr_10)\n"
   ]
  },
  {
   "cell_type": "code",
   "execution_count": 57,
   "id": "e7e98172",
   "metadata": {},
   "outputs": [
    {
     "name": "stdout",
     "output_type": "stream",
     "text": [
      "AVERAGE SCORE OF CROSS-VALIDATION=10 AND K=4: 0.8317427333059009\n"
     ]
    }
   ],
   "source": [
    "print(\"AVERAGE SCORE OF CROSS-VALIDATION=10 AND K=4:\",scr_10.mean())"
   ]
  },
  {
   "cell_type": "markdown",
   "id": "1fbbecf3",
   "metadata": {},
   "source": [
    "#  For Cross Validation=10 and k=5"
   ]
  },
  {
   "cell_type": "code",
   "execution_count": 58,
   "id": "ad6af798",
   "metadata": {},
   "outputs": [
    {
     "name": "stdout",
     "output_type": "stream",
     "text": [
      " Accuracy scr of cross-validation=10 and k=5: [0.85792239 0.7743356  0.85289911 0.8248018  0.91204373 0.76521722\n",
      " 0.77294838 0.84870949 0.82213078 0.80921901]\n"
     ]
    }
   ],
   "source": [
    "classifier =  KNeighborsRegressor(n_neighbors=5)\n",
    "\n",
    "scr_10 = cross_val_score(classifier, X, Y, cv=10)\n",
    "\n",
    "print(\" Accuracy scr of cross-validation=10 and k=5:\", scr_10)\n"
   ]
  },
  {
   "cell_type": "code",
   "execution_count": 59,
   "id": "8ad42505",
   "metadata": {},
   "outputs": [
    {
     "name": "stdout",
     "output_type": "stream",
     "text": [
      "AVERAGE SCORE OF CROSS-VALIDATION=10 AND K=5: 0.8240227510567971\n"
     ]
    }
   ],
   "source": [
    "\n",
    "print(\"AVERAGE SCORE OF CROSS-VALIDATION=10 AND K=5:\",scr_10.mean())"
   ]
  },
  {
   "cell_type": "markdown",
   "id": "e1542d12",
   "metadata": {},
   "source": [
    "# For Cross Validation=5 and k=3"
   ]
  },
  {
   "cell_type": "code",
   "execution_count": 60,
   "id": "7623f8fc",
   "metadata": {},
   "outputs": [
    {
     "name": "stdout",
     "output_type": "stream",
     "text": [
      " Accuracy scr of cross-validation=5 and k=3: [0.79613224 0.82261953 0.84648584 0.8255664  0.82254703]\n"
     ]
    }
   ],
   "source": [
    "X_t,X_tst,y_t,y_tst = train_test_split(X,Y,test_size=0.15,random_state=18)\n",
    "classifier =  KNeighborsRegressor(n_neighbors=3)\n",
    "\n",
    "scr_5 = cross_val_score(classifier, X, Y, cv=5)\n",
    "\n",
    "print(\" Accuracy scr of cross-validation=5 and k=3:\", scr_5)"
   ]
  },
  {
   "cell_type": "code",
   "execution_count": 61,
   "id": "0fa0a931",
   "metadata": {},
   "outputs": [
    {
     "name": "stdout",
     "output_type": "stream",
     "text": [
      "AVERAGE SCORE OF CROSS-VALIDATION=5 AND K=3: 0.8226702097899729\n"
     ]
    }
   ],
   "source": [
    "print(\"AVERAGE SCORE OF CROSS-VALIDATION=5 AND K=3:\",scr_5.mean())"
   ]
  },
  {
   "cell_type": "markdown",
   "id": "341b49be",
   "metadata": {},
   "source": [
    "#  For Cross Validation=5 and k=4"
   ]
  },
  {
   "cell_type": "code",
   "execution_count": 62,
   "id": "5ca986b7",
   "metadata": {},
   "outputs": [
    {
     "name": "stdout",
     "output_type": "stream",
     "text": [
      " Accuracy scr of cross-validation=5 and k=4: [0.80303358 0.83773746 0.83709607 0.81209452 0.81462139]\n"
     ]
    }
   ],
   "source": [
    "classifier =  KNeighborsRegressor(n_neighbors=4)\n",
    "\n",
    "scr_5 = cross_val_score(classifier, X, Y, cv=5)\n",
    "\n",
    "print(\" Accuracy scr of cross-validation=5 and k=4:\", scr_5)"
   ]
  },
  {
   "cell_type": "code",
   "execution_count": 63,
   "id": "a41d6509",
   "metadata": {},
   "outputs": [
    {
     "name": "stdout",
     "output_type": "stream",
     "text": [
      "AVERAGE SCORE OF CROSS-VALIDATION=5 AND K=4: 0.8209166068454273\n"
     ]
    }
   ],
   "source": [
    "print(\"AVERAGE SCORE OF CROSS-VALIDATION=5 AND K=4:\",scr_5.mean())"
   ]
  },
  {
   "cell_type": "markdown",
   "id": "e411d921",
   "metadata": {},
   "source": [
    "# For Cross Validation=5 and k=5"
   ]
  },
  {
   "cell_type": "code",
   "execution_count": 64,
   "id": "023bca89",
   "metadata": {},
   "outputs": [
    {
     "name": "stdout",
     "output_type": "stream",
     "text": [
      " Accuracy scr of cross-validation=5 and k=5: [0.80199785 0.81765146 0.82948365 0.81422963 0.80744354]\n"
     ]
    }
   ],
   "source": [
    "classifier =  KNeighborsRegressor(n_neighbors=5)\n",
    "\n",
    "scr_5 = cross_val_score(classifier, X, Y, cv=5)\n",
    "\n",
    "print(\" Accuracy scr of cross-validation=5 and k=5:\", scr_5)\n"
   ]
  },
  {
   "cell_type": "code",
   "execution_count": 65,
   "id": "c309472b",
   "metadata": {},
   "outputs": [
    {
     "name": "stdout",
     "output_type": "stream",
     "text": [
      "AVERAGE SCORE OF CROSS-VALIDATION=5 AND K=5: 0.8141612268645118\n"
     ]
    }
   ],
   "source": [
    "print(\"AVERAGE SCORE OF CROSS-VALIDATION=5 AND K=5:\",scr_5.mean())"
   ]
  },
  {
   "cell_type": "code",
   "execution_count": null,
   "id": "15f5f99a",
   "metadata": {},
   "outputs": [],
   "source": []
  }
 ],
 "metadata": {
  "kernelspec": {
   "display_name": "Python 3 (ipykernel)",
   "language": "python",
   "name": "python3"
  },
  "language_info": {
   "codemirror_mode": {
    "name": "ipython",
    "version": 3
   },
   "file_extension": ".py",
   "mimetype": "text/x-python",
   "name": "python",
   "nbconvert_exporter": "python",
   "pygments_lexer": "ipython3",
   "version": "3.12.3"
  }
 },
 "nbformat": 4,
 "nbformat_minor": 5
}
